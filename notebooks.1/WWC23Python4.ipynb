{
  "nbformat": 4,
  "nbformat_minor": 0,
  "metadata": {
    "colab": {
      "provenance": []
    },
    "kernelspec": {
      "name": "python3",
      "display_name": "Python 3"
    },
    "language_info": {
      "name": "python"
    }
  },
  "cells": [
    {
      "cell_type": "markdown",
      "source": [
        "#<b>User Input</b>"
      ],
      "metadata": {
        "id": "Ye9NUR50fEW4"
      }
    },
    {
      "cell_type": "markdown",
      "source": [
        "The built-in <b>int()</b> function returns an integer constructed from a number or string\n",
        "\n",
        "<pre>usage: int(x, base=10)</pre>\n"
      ],
      "metadata": {
        "id": "1EuDAoPQAr3G"
      }
    },
    {
      "cell_type": "code",
      "source": [
        "print(int(\"100\"))\n",
        "\n",
        "print(int(100.05))\n",
        "\n",
        "print(int(\"1001\", base=2))\n"
      ],
      "metadata": {
        "colab": {
          "base_uri": "https://localhost:8080/"
        },
        "id": "tuSJVqygLDYe",
        "outputId": "809ab9c7-b753-47c4-ca0b-7bb63b9323f8"
      },
      "execution_count": 4,
      "outputs": [
        {
          "output_type": "stream",
          "name": "stdout",
          "text": [
            "100\n",
            "100\n",
            "9\n"
          ]
        }
      ]
    },
    {
      "cell_type": "markdown",
      "source": [
        "#Prompting for Numeric Input\n",
        "The input function is used to obtain command-line input from the user\n",
        "The function always returns a string type which cannot be used in arithmetic expressions\n",
        "\n",
        "Python provides built-in type functions which can be used to convert one type to another:\n",
        "\n",
        "- int(): Converts a value to an integer. It can handle strings that - represent numbers (e.g., \"10\") and floating-point numbers by truncating the decimal part (strings must be converted to float first)\n",
        "- float(): Converts a value to a floating-point number. It can handle numeric literals and strings representing a number (e.g., \"3.14\").\n",
        "- str(): Converts a value to a string. This function can handle virtually any data type, turning it into its string representation. str() is not needed when the value is obtained from the input function since it will already be a string.\n",
        "- bool(): Converts a value to a boolean (True or False).\n",
        "complex(): Converts a value to a complex number. It can take numeric literals or strings representing complex numbers (e.g., \"1+2j\").\n",
        "- list(): Converts a value to a list. It is typically used for converting tuples, sets, and other iterable objects into lists.\n",
        "tuple(): Converts a value to a tuple. It's commonly used for converting lists, sets, and other iterables into tuples.\n",
        "- set(): Converts a value to a set. It's useful for removing duplicates from a sequence and converting other iterable types to a set.\n",
        "- dict(): Converts a value to a dictionary. It's often used with a list of pairs or a similar structure that can represent key-value pairs.\n",
        "\n"
      ],
      "metadata": {
        "id": "ixslcKFMLjAw"
      }
    },
    {
      "cell_type": "code",
      "source": [
        "x = input(\"Please enter an integer, e.g. 20: \")\n",
        "\n",
        "# the type() function will display the type of an object\n",
        "type(x)\n",
        "# print(x > 20) # this doesn't work - x is a string, not a number\n",
        "print('x as an int =', int(x))\n",
        "print('x as a float =', float(x))\n",
        "print('x as a complex =', complex(x))\n",
        "\n",
        "x = input(\"Please enter a floating point number, e.g. 3.14: \")\n",
        "# first convert to float, then int\n",
        "x = float(x)\n",
        "x = int(x)\n",
        "print('x as an int =', x)\n",
        "\n",
        "# these functions can be nested:\n",
        "print('x as an int =', int(float(x)))"
      ],
      "metadata": {
        "colab": {
          "base_uri": "https://localhost:8080/"
        },
        "id": "RcNzNOltLold",
        "outputId": "57d8918d-f418-4ff3-c8df-bb94baf7b0e3"
      },
      "execution_count": 6,
      "outputs": [
        {
          "output_type": "stream",
          "name": "stdout",
          "text": [
            "Please enter an integer, e.g. 20: 20\n",
            "x as an int = 20\n",
            "x as a float = 20.0\n",
            "x as a complex = (20+0j)\n",
            "Please enter a floating point number, e.g. 3.14: 20.5\n",
            "x as an int = 20\n",
            "x as an int = 20\n"
          ]
        }
      ]
    }
  ]
}