{
  "nbformat": 4,
  "nbformat_minor": 0,
  "metadata": {
    "colab": {
      "provenance": []
    },
    "kernelspec": {
      "name": "python3",
      "display_name": "Python 3"
    },
    "language_info": {
      "name": "python"
    }
  },
  "cells": [
    {
      "cell_type": "code",
      "execution_count": null,
      "metadata": {
        "id": "NXl4QlfmenDK"
      },
      "outputs": [],
      "source": []
    },
    {
      "cell_type": "markdown",
      "source": [
        "#<b>Why is it called Python?</b>\n",
        "\n",
        "&nbsp;&nbsp;&nbsp;&nbsp;<img src=\"https://github.com/FSCJ-WORKINGCONNECTIONS/WinterWorkingConnections2023/blob/main/images.1/PythonSnake.png?raw=true\" alt=\"Python Compile Process\" width=\"200\" height=\"100\"/>\n",
        "\n",
        "When he began implementing Python, Guido van Rossum was also reading the published scripts from “Monty Python’s Flying Circus”, a BBC comedy series from the 1970s.\n",
        "\n",
        "&nbsp;&nbsp;&nbsp;&nbsp;<img src=\"https://github.com/FSCJ-WORKINGCONNECTIONS/WinterWorkingConnections2023/blob/main/images.1/MontyPython.png?raw=true\" alt=\"Python Compile Process\" width=\"300\" height=\"200\"/>\n",
        "\n",
        "Van Rossum thought he needed a name that was short, unique, and slightly mysterious, so he decided to call the language <b>Python</b>.\n"
      ],
      "metadata": {
        "id": "6AoKGPVuetG1"
      }
    },
    {
      "cell_type": "markdown",
      "source": [
        "#<b>Characteristics of the Python Language</b>\n",
        "- Simple syntax\n",
        "- Many features of traditional programming languages.\n",
        "- Open source\n",
        "- Support for different types of applications\n",
        "- Console (text-based)\n",
        "- scripting and small utilities\n",
        "- not necessarily interactive\n",
        "- GUI (Graphical User Interface)\n",
        "- Web applications\n"
      ],
      "metadata": {
        "id": "Ye9NUR50fEW4"
      }
    },
    {
      "cell_type": "markdown",
      "source": [
        "- Python can be used as a scripting language or compiled to bytecode for larger projects\n",
        "- Python supports dynamic data types and dynamic type-checking\n",
        "- Python provides automatic garbage collection\n",
        "- Python can be integrated with other languages such as C, C++, and Java\n"
      ],
      "metadata": {
        "id": "ekWDpThofT03"
      }
    },
    {
      "cell_type": "markdown",
      "source": [
        "#<b>Python Resources</b>\n",
        "\n",
        "- Main website: https://www.python.org/\n",
        "- Books, Websites, and Tutorials: https://wiki.python.org/moin/BeginnersGuide/Programmers\n",
        "- Hitchhiker's Guide to Python: https://docs.python-guide.org/en/latest/intro/learning/\n",
        "- Downloading the software: https://www.python.org/downloads/\n"
      ],
      "metadata": {
        "id": "0F23bxiHffIs"
      }
    },
    {
      "cell_type": "markdown",
      "source": [
        "#<b>Applications of Python</b>\n",
        "- Scripting\n",
        "- Data science\n",
        "- Machine learning\n",
        "- Scientific programming\n",
        "- Game development\n",
        "- GUI development\n",
        "- Web application development\n",
        "- Mobile development"
      ],
      "metadata": {
        "id": "8jK6rOBOgB4p"
      }
    },
    {
      "cell_type": "code",
      "source": [
        "# A Simple Python Program\n",
        "\n",
        "# Asks for your name and echoes the response\n",
        "\n",
        "# Click the Run Cell button to the left or type Ctrl-Enter to execute this code\n",
        "# Type your nam in the input box when prompted and then press Enter\n",
        "\n",
        "#!/usr/bin/env python3\n",
        "\n",
        "# display a welcome message\n",
        "print(\"Welcome to Python!\")\n",
        "print()\n",
        "\n",
        "# get input from the user\n",
        "name = input(\"Please enter your name: \")\n",
        "print(\"Hello,\", name)"
      ],
      "metadata": {
        "id": "Q2tBus9OgQ4y"
      },
      "execution_count": null,
      "outputs": []
    },
    {
      "cell_type": "markdown",
      "source": [
        "#Python Versions\n",
        "\n",
        "- To determine your current version of Python, you can use the --version option from a terminal:\n",
        "\n",
        "<pre>python --version</pre>\n",
        "\n",
        "- (ignore the ! in the following code cell, it is only needed when a command is run in a Jupyter notebook)"
      ],
      "metadata": {
        "id": "k_rpENbvVTAZ"
      }
    },
    {
      "cell_type": "code",
      "source": [
        "!python --version"
      ],
      "metadata": {
        "id": "IohKti70Vcl5"
      },
      "execution_count": null,
      "outputs": []
    },
    {
      "cell_type": "markdown",
      "source": [
        "# Python IDEs\n",
        "\n",
        "- There are many useful and powerful Python IDE packages\n",
        "- Try them and pick for yourself\n",
        "  - Sublime Text https://www.sublimetext.com/\n",
        "  - PyCharm https://www.jetbrains.com/pycharm/\n",
        "  - Microsoft VS Code https://code.visualstudio.com/\n",
        "  - Spyder https://www.spyder-ide.org/\n",
        "  - Jupyter Notebook https://jupyter.org/\n",
        "  - IDLE (included in the Python installation)\n"
      ],
      "metadata": {
        "id": "O0dVSeh9WIwy"
      }
    },
    {
      "cell_type": "markdown",
      "source": [
        "# Jupyter Notebooks\n",
        "Jupyter Notebooks are a popular choice for Python development among data scientists, researchers, educators, and developers. Here are some key benefits:\n",
        "\n",
        "- Interactive Coding Environment:\n",
        "  - Jupyter Notebooks allow you to write and execute code in an interactive environment. This is especially useful for experimenting with code snippets, testing hypotheses, and immediate error debugging.\n",
        "\n",
        "- Support for Multiple Programming Languages:\n",
        "  - While primarily used for Python, Jupyter supports several other languages like R, Julia, and Scala.\n",
        "\n",
        "- Integration of Code, Text, and Multimedia:\n",
        "  - Notebooks allow you to integrate code, explanatory text (using Markdown), and multimedia resources (images, videos, links).\n",
        "\n",
        "- Data Visualization:\n",
        "   -Jupyter Notebooks support a wide range of data visualization libraries, enabling the creation of graphs and charts within the notebook.\n",
        "\n",
        "- Shareable and Convertible:\n",
        "  - Notebooks can be easily shared with others, and they can view the document with all the code, text, and visualizations intact. They can also be converted to other formats like HTML, PDF, and slideshows for wider dissemination.\n",
        "\n",
        "- Useful for Teaching and Learning:\n",
        "  - The ability to combine explanation with live code makes Jupyter Notebooks an excellent educational tool, allowing for the creation of interactive learning materials.\n",
        "\n",
        "- Extension and Plugin Support:\n",
        "  - A wide range of extensions and plugins are available for Jupyter, enhancing its functionality. These include tools for code formatting, spell-checking, and more.\n",
        "\n",
        "- Ease of Use:\n",
        "  - Jupyter Notebooks are user-friendly and don't require complex setup, making them accessible to beginners in programming and data science."
      ],
      "metadata": {
        "id": "nbWQ93jUk3ws"
      }
    },
    {
      "cell_type": "markdown",
      "source": [
        "# Google CoLab (http://colab.google)\n",
        "Google Colab integrates Jupyter Notebooks and offers many useful features:\n",
        "\n",
        "- Zero Configuration:\n",
        "  - Google Colab requires no setup, and notebooks can be started just with a Google account. This makes it very accessible for beginners or those who want to quickly test an idea.\n",
        "\n",
        "- Free Access to GPUs and TPUs:\n",
        "  - Colab provides free access to Graphics Processing Units (GPUs) and Tensor Processing Units (TPUs) which can significantly speed up computation necessary for large-scale machine learning tasks.\n",
        "\n",
        "- Easy Sharing and Collaboration:\n",
        "  - Like Google Docs, Colab allows for easy sharing of notebooks. Multiple users can access and edit notebooks simultaneously, making it an excellent tool for collaborative projects.\n",
        "\n",
        "- Integration with Google Drive:\n",
        "  - Colab integrates seamlessly with Google Drive. This means notebooks can be saved directly to Google Drive, shared from Drive, and accessed from Drive.\n",
        "\n",
        "- Pre-installed Libraries:\n",
        "  - Colab comes pre-loaded with many popular libraries for data science and machine learning, reducing the need to spend time on environment setup and dependency management.\n",
        "\n",
        "- Interactive Visualization:\n",
        "   -Jupyter notebooks in Colab support interactive data visualizations, making it easier to understand complex data.\n",
        "\n",
        "- Environment Persistence:\n",
        "  - Although the runtime environment is not persistent, Google Colab allows you to save your work in notebooks and resume from where you left off by saving notebooks to Google Drive.\n",
        "\n",
        "- Support for Various Languages:\n",
        "  - Beyond Python, Colab also supports other languages like Swift and JavaScript."
      ],
      "metadata": {
        "id": "sM6jnstKicOl"
      }
    },
    {
      "cell_type": "markdown",
      "source": [
        "# Python is an Interpreted Language\n",
        "- No Compilation Required:\n",
        "  - Python code is executed line by line, without the need for a separate compilation step. This means that Python programs do not need to be compiled into machine-readable code before they are run.\n",
        "\n",
        "- Immediate Execution:\n",
        "  - You can run Python code as soon as you write it. This is unlike compiled languages, where the code must first be converted into a machine-readable format (compilation) before it can be executed.\n",
        "\n",
        "- Ease of Testing and Debugging:\n",
        "  - Since Python code is executed line by line, it's often easier to test and debug. Errors and exceptions can be caught and addressed as soon as they occur in the code.\n",
        "\n",
        "- Platform Independence:\n",
        "  - Python code can run on any platform that has a Python interpreter. This contrasts with some compiled languages like C and C++, where code compiled on one platform may not run on another without modification or recompilation.\n",
        "\n",
        "- Dynamic Typing:\n",
        "  - Python is dynamically typed, meaning that data types are inferred at runtime and can change during execution. This is possible because the interpreter checks data types as it runs the code.\n",
        "\n",
        "- Slower Execution Compared to Compiled Languages:\n",
        "  - Since Python code is interpreted at runtime, it generally runs slower than compiled languages. The interpreter needs to process each line of code, which adds overhead. Faster modern processors and improvements in the language help offset this disadvantage."
      ],
      "metadata": {
        "id": "OfFl2HgPXSdm"
      }
    },
    {
      "cell_type": "code",
      "source": [
        "# Perform a simple calculation in the interpreter\n",
        "# In Jupyter, you can highlight the line, right-click, and \"Run Selection\"\n",
        "2 + 3 + 5\n"
      ],
      "metadata": {
        "colab": {
          "base_uri": "https://localhost:8080/"
        },
        "id": "KhBfBxo1d8ip",
        "outputId": "2e476f3f-be82-4c38-e8da-32c72087929c"
      },
      "execution_count": null,
      "outputs": [
        {
          "output_type": "execute_result",
          "data": {
            "text/plain": [
              "10"
            ]
          },
          "metadata": {},
          "execution_count": 4
        }
      ]
    },
    {
      "cell_type": "markdown",
      "source": [
        "# Python Syntax\n",
        "Python <b>syntax</b> refers to the set of rules that define how a Python program is written and structured. Following these rules is essential to avoid <b>syntax errors</b>, which prevent code from executing.\n",
        "\n",
        "- Indentation (Spacing):\n",
        "  - Python uses spaces to group lines of code together. For example, everything inside a loop should be spaced the same way. Always use the same number of spaces for indentations, and don't mix spaces and tabs.\n",
        "\n",
        "- Colons After Certain Words:\n",
        "  - Put a colon (:) after words like if, else, for, while, and when defining functions (def). The colon tells Python that the following indented lines are part of a special block of code.\n",
        "\n",
        "- Order and Structure:\n",
        "  - When using logical structures such as if/else statements, make sure they are complete and in the right order and properly spaced. Forgetting or misplacing them can cause errors.\n",
        "\n",
        "- Matching Pairs:\n",
        "  - Brackets ([]), parentheses (()),  curly braces ({}), and quotes (both single ' ' and double \"\") are used frequently in Python and should always be used in pairs. If you open one, you need to close it. This is important for lists, function calls, strings, and other expressions and data types.\n",
        "\n",
        "- Naming Functions and Variables Correctly:\n",
        "  - Names for functions and variables should start with a letter or an underscore, followed by letters, numbers, or underscores. Avoid using Python's reserved words (like if, for, print) as names for variables or functions."
      ],
      "metadata": {
        "id": "WMR6B6wObo-h"
      }
    },
    {
      "cell_type": "code",
      "source": [
        "# can you identify the syntax errors?\n",
        "\n",
        "print(\"Hello World\"\n",
        "\n",
        "print(\"Hello World')\n",
        "\n",
        "print(\"Hello World)\n"
      ],
      "metadata": {
        "colab": {
          "base_uri": "https://localhost:8080/",
          "height": 142
        },
        "id": "RoqW1os_sc8a",
        "outputId": "3f29b46b-fd69-4d35-eecc-b0d102ce62bb"
      },
      "execution_count": null,
      "outputs": [
        {
          "output_type": "error",
          "ename": "SyntaxError",
          "evalue": "ignored",
          "traceback": [
            "\u001b[0;36m  File \u001b[0;32m\"<ipython-input-1-accde07c0249>\"\u001b[0;36m, line \u001b[0;32m5\u001b[0m\n\u001b[0;31m    print(\"Hello World')\u001b[0m\n\u001b[0m          ^\u001b[0m\n\u001b[0;31mSyntaxError\u001b[0m\u001b[0;31m:\u001b[0m unterminated string literal (detected at line 5)\n"
          ]
        }
      ]
    },
    {
      "cell_type": "markdown",
      "source": [
        "#Runtime Errors\n",
        "Runtime  errors can crash your program or produce unexpected results\n",
        "\n",
        "There are ways to handle these errors (exceptions) to prevent the crash, but for now we will have to find and fix the code that is causing the problem."
      ],
      "metadata": {
        "id": "-zhmZAkptDmZ"
      }
    },
    {
      "cell_type": "code",
      "source": [
        "# identify the runtime error\n",
        "x = 5\n",
        "y = 10\n",
        "print('x =', x, 'y =', y, 'z =', z)"
      ],
      "metadata": {
        "colab": {
          "base_uri": "https://localhost:8080/",
          "height": 211
        },
        "id": "HH8_iQaitYeO",
        "outputId": "0677381c-d688-4ede-8358-a89065821489"
      },
      "execution_count": null,
      "outputs": [
        {
          "output_type": "error",
          "ename": "NameError",
          "evalue": "ignored",
          "traceback": [
            "\u001b[0;31m---------------------------------------------------------------------------\u001b[0m",
            "\u001b[0;31mNameError\u001b[0m                                 Traceback (most recent call last)",
            "\u001b[0;32m<ipython-input-3-11837cd1c4cd>\u001b[0m in \u001b[0;36m<cell line: 3>\u001b[0;34m()\u001b[0m\n\u001b[1;32m      1\u001b[0m \u001b[0mx\u001b[0m \u001b[0;34m=\u001b[0m \u001b[0;36m5\u001b[0m\u001b[0;34m\u001b[0m\u001b[0;34m\u001b[0m\u001b[0m\n\u001b[1;32m      2\u001b[0m \u001b[0my\u001b[0m \u001b[0;34m=\u001b[0m \u001b[0;36m10\u001b[0m\u001b[0;34m\u001b[0m\u001b[0;34m\u001b[0m\u001b[0m\n\u001b[0;32m----> 3\u001b[0;31m \u001b[0mprint\u001b[0m\u001b[0;34m(\u001b[0m\u001b[0;34m'x ='\u001b[0m\u001b[0;34m,\u001b[0m \u001b[0mx\u001b[0m\u001b[0;34m,\u001b[0m \u001b[0;34m'y ='\u001b[0m\u001b[0;34m,\u001b[0m \u001b[0my\u001b[0m\u001b[0;34m,\u001b[0m \u001b[0;34m'z ='\u001b[0m\u001b[0;34m,\u001b[0m \u001b[0mz\u001b[0m\u001b[0;34m)\u001b[0m\u001b[0;34m\u001b[0m\u001b[0;34m\u001b[0m\u001b[0m\n\u001b[0m",
            "\u001b[0;31mNameError\u001b[0m: name 'z' is not defined"
          ]
        }
      ]
    },
    {
      "cell_type": "markdown",
      "source": [
        "# How Python Compiles and Runs Source Code\n",
        "\n",
        "Python's implementation is \"byte-code interpreted\".\n",
        "\n",
        "- Step 1. The programmer uses a text editor or IDE to enter and edit the source code. Then, the programmer saves the source code to a file with a .py extension.\n",
        "- Step 2. The source code is compiled by the Python interpreter into bytecode.\n",
        "- Step 3. The bytecode is translated by the Python virtual machine into instructions that can interact with the operating system of the computer.\n",
        "<br><br>\n",
        "<img src=\"https://github.com/FSCJ-WORKINGCONNECTIONS/WinterWorkingConnections2023/blob/main/images.1/HowPythonCompilesAndRuns.png?raw=true?raw=true\" alt=\"Python Compile Process\" width=\"300\" height=\"200\"/>"
      ],
      "metadata": {
        "id": "EIoWdSVVtx1d"
      }
    },
    {
      "cell_type": "markdown",
      "source": [
        "#Python Statements\n",
        "\n",
        "A line of Python code is known as a <b>statement</b>\n",
        "\n",
        "<pre>print(\"Total score = \" + str(score_total))</pre>\n",
        "\n",
        "Indentation matters! Some statements must be indented, others must not be. Typical indentation is 4 spaces. The following \"if\" statement is properly indented (and note the colon : at the end of the line):\n",
        "\n",
        "<pre>if test_score >= 0:\n",
        "    score_total = score_total + test_score</pre>\n",
        "\n",
        "Here's an example of the same statement with incorrect indentation:\n",
        "\n",
        "<pre>if test_score >= 0:\n",
        "score_total = score_total + test_score</pre>\n",
        "\n",
        "This code will not execute. Try it by removing the indentation in front of the \"print\" statement in the following cell:"
      ],
      "metadata": {
        "id": "U1eWRcAVQ9fd"
      }
    },
    {
      "cell_type": "code",
      "source": [
        "test_score = 100\n",
        "if test_score >= 0:\n",
        "    print(\"test_score is\", test_score)"
      ],
      "metadata": {
        "id": "HROuj4KpSiUg"
      },
      "execution_count": null,
      "outputs": []
    },
    {
      "cell_type": "markdown",
      "source": [
        "#Python Coding Style\n",
        "A <b>PEP</b> is a Python Enhancement Proposal, which provides technical specifications for various language features and conventions and should be considered authoritative.\n",
        "\n",
        "<b>PEP 8</b> (https://www.python.org/dev/peps/pep-0008/) is a style guide for Python code which makes the following recommendations regarding indentation:\n",
        "\n",
        "- Use 4-space indentation, and no tabs.\n",
        "\n",
        "&nbsp;&nbsp;&nbsp;&nbsp;&nbsp;&nbsp;&nbsp;&nbsp;&nbsp;&nbsp;<img src=\"https://github.com/FSCJ-WORKINGCONNECTIONS/WinterWorkingConnections2023/blob/main/images.1/SpacesNotTabs.png?raw=true\" alt=\"Python Compile Process\" width=\"200\" height=\"125\"/>\n",
        "\n",
        "- 4 spaces are a good compromise between small indentation (allows greater nesting depth) and large indentation (easier to read). Tabs introduce confusion, and are best left out.\n",
        "- Wrap lines so that they don’t exceed 79 characters. This helps users with small displays and makes it possible to have several code files side-by-side on larger displays.\n",
        "\n",
        "#Other recommendations from PEP 8:\n",
        "\n",
        "- Use blank lines to separate functions and classes, and larger blocks of code inside functions.\n",
        "\n",
        "- When possible, put comments on a line of their own.\n",
        "\n",
        "- Use spaces around operators and after commas, but not directly inside parenthesized constructs: a = f(1, 2) + g(3, 4).\n",
        "\n",
        "- Name your classes, variables, and functions consistently; the convention is to use PascalCase for classes and lower_case_with_underscores or camelCase for variables, functions and methods.\n",
        "\n"
      ],
      "metadata": {
        "id": "k1gZahbXTIXq"
      }
    },
    {
      "cell_type": "markdown",
      "source": [],
      "metadata": {
        "id": "hIAeQSRZsbh3"
      }
    }
  ]
}