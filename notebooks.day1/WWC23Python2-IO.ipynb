{
  "nbformat": 4,
  "nbformat_minor": 0,
  "metadata": {
    "colab": {
      "provenance": []
    },
    "kernelspec": {
      "name": "python3",
      "display_name": "Python 3"
    },
    "language_info": {
      "name": "python"
    }
  },
  "cells": [
    {
      "cell_type": "markdown",
      "source": [
        "#<b>Variables and Simple Data Types</b>"
      ],
      "metadata": {
        "id": "Ye9NUR50fEW4"
      }
    },
    {
      "cell_type": "markdown",
      "source": [
        "A <b>variable</b> is an identifier made up of letters, numbers, and underscores (_)\n",
        "- Variables store values that are used in a program\n",
        "- Variable values can change during a program's execution (that's why they are called variables)\n",
        "- Variable names must start with a letter or underscore (initial underscores are discouraged, however)\n",
        "- Variable names cannot contain spaces, punctuation (other than underscores), or other special characters\n",
        "- A variable name cannot be a Python keyword (e.g. while, or continue)\n"
      ],
      "metadata": {
        "id": "1EuDAoPQAr3G"
      }
    },
    {
      "cell_type": "markdown",
      "source": [
        "A <b>constant</b> is a value that will not change for the life of the program.\n",
        "- Constants make programs more maintainable and source code less error-prone\n",
        "- Python does not provide a built-in constant modifier, but we can use naming conventions to \"simulate\" them\n",
        "- \"Constants are usually defined on a module level and written in all capital letters with underscores separating words (http://legacy.python.org/dev/peps/pep-0008/#constants)\n",
        "\n",
        "<pre>\n",
        "THIS_IS_A_CONSTANT\n",
        "this_is_a_variable\n",
        "thisIsAlsoAVariable\n",
        "</pre>"
      ],
      "metadata": {
        "id": "hIAeQSRZsbh3"
      }
    }
  ]
}