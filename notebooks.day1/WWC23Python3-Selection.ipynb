{
  "nbformat": 4,
  "nbformat_minor": 0,
  "metadata": {
    "colab": {
      "provenance": []
    },
    "kernelspec": {
      "name": "python3",
      "display_name": "Python 3"
    },
    "language_info": {
      "name": "python"
    }
  },
  "cells": [
    {
      "cell_type": "markdown",
      "source": [
        "#Selection Statements"
      ],
      "metadata": {
        "id": "Ye9NUR50fEW4"
      }
    },
    {
      "cell_type": "markdown",
      "source": [
        "<b>Selection</b> statements allow a program to choose different paths of execution based on the evaluation of a condition.\n",
        "\n",
        "Selection statements in Python include the following:\n",
        "\n",
        "- <b>if statements</b>: the most basic form of selection statement in Python. It tests a condition and executes a block of code if the condition is True.\n",
        "- <b>else statements</b>: usually used in conjunction with the if statement, else provides an alternative block of code that is executed if the if condition is False.\n",
        "- <b>elif statements</b>: used for checking multiple conditions. It must follow an if statement and precedes the else statement.\n",
        "- <b>ternary operator</b>: not a statement in the traditional sense, but a way to write concise conditional expressions. It is a one-line if-else statement."
      ],
      "metadata": {
        "id": "1EuDAoPQAr3G"
      }
    },
    {
      "cell_type": "markdown",
      "source": [
        "##Boolean Expressions\n",
        "\n",
        "Selection statements are based on </b>boolean expressions</b> which evaluate to <b>True</b> or <b>False</b>\n",
        "\n",
        "<pre>\n",
        "IF (there is plenty of money) THEN go out to eat\n",
        "WHILE (there is not enough money) stay home and cook\n",
        "</pre>\n",
        "\n",
        "(there is plenty of money) and (there is not enough money) are boolean expressions which evaluate to True or False"
      ],
      "metadata": {
        "id": "YeM3sIIRwvFC"
      }
    },
    {
      "cell_type": "markdown",
      "source": [
        "Relational Operators\n",
        "\n",
        "<b>Relational operators</b> are used in Python to construct Boolean expressions\n",
        "\n",
        "<img src=\"https://github.com/FSCJ-WorkingConnections/WinterWorkingConnections2023/blob/main/notebooks.day1/images/RelationalOperators.png?raw=true\" alt=\"Relational Operators\" width=\"400\" height=\"200\"/>"
      ],
      "metadata": {
        "id": "k2rAn8f5x2wI"
      }
    },
    {
      "cell_type": "code",
      "source": [
        "# Equal to (==)\n",
        "eq = 5 == 5  # True\n",
        "# Not Equal to (!=)\n",
        "neq = 5 != 3  # True\n",
        "# Greater Than (>)\n",
        "gt = 5 > 3  # True\n",
        "# Less Than (<)\n",
        "lt = 3 < 5  # True\n",
        "# Greater Than or Equal to (>=)\n",
        "gte = 5 >= 5  # True\n",
        "# Less Than or Equal to (<=)\n",
        "lte = 5 <= 5  # True\n",
        "\n",
        "# Output results\n",
        "print(\"Equal to:\", eq)\n",
        "print(\"Not Equal to:\", neq)\n",
        "print(\"Greater Than:\", gt)\n",
        "print(\"Less Than:\", lt)\n",
        "print(\"Greater Than or Equal to:\", gte)\n",
        "print(\"Less Than or Equal to:\", lte)\n"
      ],
      "metadata": {
        "id": "nE2t3bA5yY3y",
        "colab": {
          "base_uri": "https://localhost:8080/"
        },
        "outputId": "818ca70f-05d8-4366-9a63-dbafd2b1bb57"
      },
      "execution_count": 1,
      "outputs": [
        {
          "output_type": "stream",
          "name": "stdout",
          "text": [
            "Equal to: True\n",
            "Not Equal to: True\n",
            "Greater Than: True\n",
            "Less Than: True\n",
            "Greater Than or Equal to: True\n",
            "Less Than or Equal to: True\n"
          ]
        }
      ]
    },
    {
      "cell_type": "markdown",
      "source": [
        "##More Examples of Boolean Operators\n",
        "- Operands should be based on similar types\n",
        "- All of the following examples evaluate to True or False\n",
        "<pre>\n",
        "age == 5\n",
        "first_name == “John”\n",
        "quantity != 0\n",
        "distance > 5.6\n",
        "fuel_req < fuel_cap\n",
        "distance >= limit\n",
        "stock <= reorder_point\n",
        "rate / 100 >= 0.1\n",
        "</pre>\n",
        "\n",
        "Don't use <b>=</pre> to test for equality, this is for assignment!\n"
      ],
      "metadata": {
        "id": "_ii073cO0HwX"
      }
    }
  ]
}