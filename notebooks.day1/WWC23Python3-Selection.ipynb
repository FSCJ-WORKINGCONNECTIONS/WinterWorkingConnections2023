{
  "nbformat": 4,
  "nbformat_minor": 0,
  "metadata": {
    "colab": {
      "provenance": []
    },
    "kernelspec": {
      "name": "python3",
      "display_name": "Python 3"
    },
    "language_info": {
      "name": "python"
    }
  },
  "cells": [
    {
      "cell_type": "markdown",
      "source": [
        "#Selection Statements"
      ],
      "metadata": {
        "id": "Ye9NUR50fEW4"
      }
    },
    {
      "cell_type": "markdown",
      "source": [
        "<b>Selection</b> statements allow a program to choose different paths of execution based on the evaluation of a condition.\n",
        "\n",
        "Selection statements in Python include the following:\n",
        "\n",
        "- <b>if statements</b>: the most basic form of selection statement in Python. It tests a condition and executes a block of code if the condition is True.\n",
        "- <b>else statements</b>: usually used in conjunction with the if statement, else provides an alternative block of code that is executed if the if condition is False.\n",
        "- <b>elif statements</b>: used for checking multiple conditions. It must follow an if statement and precedes the else statement.\n",
        "- <b>ternary operator</b>: not a statement in the traditional sense, but a way to write concise conditional expressions. It is a one-line if-else statement."
      ],
      "metadata": {
        "id": "1EuDAoPQAr3G"
      }
    },
    {
      "cell_type": "markdown",
      "source": [
        "##Boolean Expressions\n",
        "\n",
        "Selection statements are based on </b>boolean expressions</b> which evaluate to <b>True</b> or <b>False</b>\n",
        "\n",
        "<pre>\n",
        "IF (there is plenty of money) THEN go out to eat\n",
        "WHILE (there is not enough money) stay home and cook\n",
        "</pre>\n",
        "\n",
        "(there is plenty of money) and (there is not enough money) are boolean expressions which evaluate to True or False"
      ],
      "metadata": {
        "id": "YeM3sIIRwvFC"
      }
    },
    {
      "cell_type": "markdown",
      "source": [
        "Relational Operators\n",
        "\n",
        "<b>Relational operators</b> are used in Python to construct Boolean expressions\n",
        "\n",
        "<img src=\"https://github.com/FSCJ-WorkingConnections/WinterWorkingConnections2023/blob/main/images.1/RelationalOperators.png?raw=true\" alt=\"Relational Operators\" width=\"200\" height=\"100\"/>"
      ],
      "metadata": {
        "id": "k2rAn8f5x2wI"
      }
    },
    {
      "cell_type": "code",
      "source": [],
      "metadata": {
        "id": "nE2t3bA5yY3y"
      },
      "execution_count": null,
      "outputs": []
    }
  ]
}