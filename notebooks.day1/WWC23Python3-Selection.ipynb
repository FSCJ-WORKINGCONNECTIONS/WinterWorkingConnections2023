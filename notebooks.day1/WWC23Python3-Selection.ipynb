{
  "nbformat": 4,
  "nbformat_minor": 0,
  "metadata": {
    "colab": {
      "provenance": []
    },
    "kernelspec": {
      "name": "python3",
      "display_name": "Python 3"
    },
    "language_info": {
      "name": "python"
    }
  },
  "cells": [
    {
      "cell_type": "markdown",
      "source": [
        "#Selection Statements"
      ],
      "metadata": {
        "id": "Ye9NUR50fEW4"
      }
    },
    {
      "cell_type": "markdown",
      "source": [
        "<b>Selection</b> statements allow a program to choose different paths of execution based on the evaluation of a condition.\n",
        "\n",
        "Selection statements in Python include the following:\n",
        "\n",
        "- <b>if statements</b>: the most basic form of selection statement in Python. It tests a condition and executes a block of code if the condition is True.\n",
        "- <b>else statements</b>: usually used in conjunction with the if statement, else provides an alternative block of code that is executed if the if condition is False.\n",
        "- <b>elif statements</b>: used for checking multiple conditions. It must follow an if statement and precedes the else statement.\n",
        "- <b>ternary operator</b>: not a statement in the traditional sense, but a way to write concise conditional expressions. It is a one-line if-else statement."
      ],
      "metadata": {
        "id": "1EuDAoPQAr3G"
      }
    },
    {
      "cell_type": "markdown",
      "source": [
        "##Boolean Expressions\n",
        "\n",
        "Selection statements are based on </b>boolean expressions</b> which evaluate to <b>True</b> or <b>False</b>\n",
        "\n",
        "<pre>\n",
        "IF (there is plenty of money) THEN go out to eat\n",
        "WHILE (there is not enough money) stay home and cook\n",
        "</pre>\n",
        "\n",
        "(there is plenty of money) and (there is not enough money) are boolean expressions which evaluate to True or False"
      ],
      "metadata": {
        "id": "YeM3sIIRwvFC"
      }
    },
    {
      "cell_type": "markdown",
      "source": [
        "Relational Operators\n",
        "\n",
        "<b>Relational operators</b> are used in Python to construct Boolean expressions\n",
        "\n",
        "<img src=\"https://github.com/FSCJ-WorkingConnections/WinterWorkingConnections2023/blob/main/notebooks.day1/images/RelationalOperators.png?raw=true\" alt=\"Relational Operators\" width=\"400\" height=\"200\"/>"
      ],
      "metadata": {
        "id": "k2rAn8f5x2wI"
      }
    },
    {
      "cell_type": "code",
      "source": [
        "# Equal to (==)\n",
        "eq = 5 == 5  # True\n",
        "# Not Equal to (!=)\n",
        "neq = 5 != 3  # True\n",
        "# Greater Than (>)\n",
        "gt = 5 > 3  # True\n",
        "# Less Than (<)\n",
        "lt = 3 < 5  # True\n",
        "# Greater Than or Equal to (>=)\n",
        "gte = 5 >= 5  # True\n",
        "# Less Than or Equal to (<=)\n",
        "lte = 5 <= 5  # True\n",
        "\n",
        "# Output results\n",
        "print(\"Equal to:\", eq)\n",
        "print(\"Not Equal to:\", neq)\n",
        "print(\"Greater Than:\", gt)\n",
        "print(\"Less Than:\", lt)\n",
        "print(\"Greater Than or Equal to:\", gte)\n",
        "print(\"Less Than or Equal to:\", lte)\n"
      ],
      "metadata": {
        "id": "nE2t3bA5yY3y"
      },
      "execution_count": null,
      "outputs": []
    },
    {
      "cell_type": "markdown",
      "source": [
        "##More Examples of Boolean Operators\n",
        "- Operands should be based on similar types\n",
        "- All of the following examples evaluate to True or False\n",
        "<pre>\n",
        "age == 5\n",
        "first_name == “John”\n",
        "quantity != 0\n",
        "distance > 5.6\n",
        "fuel_req < fuel_cap\n",
        "distance >= limit\n",
        "stock <= reorder_point\n",
        "rate / 100 >= 0.1\n",
        "</pre>\n",
        "\n",
        "Don't use <b>=</pre> to test for equality, this is for assignment!\n"
      ],
      "metadata": {
        "id": "_ii073cO0HwX"
      }
    },
    {
      "cell_type": "markdown",
      "source": [
        "##Assigning Values to Boolean Variables\n",
        "\n",
        "A <b>Boolean variable</b> is either True or False\n",
        "The literal values <b>True</b> and <b>False</b> can be assigned\n",
        "\n",
        "<pre>\n",
        "boolean isActive = False\n",
        "boolean rentIsTooHigh = True\n",
        "</pre>"
      ],
      "metadata": {
        "id": "V1R-Ka_y_kgK"
      }
    },
    {
      "cell_type": "markdown",
      "source": [
        "##Logical Operators\n",
        "\n",
        "<b>Logical operators</b> are used to combine Boolean expressions\n",
        "  - The combined expressions also evaluate to True or False\n",
        "\n",
        "<img src=\"https://github.com/FSCJ-WorkingConnections/WinterWorkingConnections2023/blob/main/notebooks.day1/images/LogicalOperators.png?raw=true\" alt=\"Logical Operators\" width=\"400\" height=\"200\"/>  "
      ],
      "metadata": {
        "id": "stY6WceY_sRe"
      }
    },
    {
      "cell_type": "code",
      "source": [
        "# Variables\n",
        "a = True\n",
        "b = False\n",
        "\n",
        "# Logical AND\n",
        "result_and = a and b  # False\n",
        "\n",
        "# Logical OR\n",
        "result_or = a or b  # True\n",
        "\n",
        "# Logical NOT\n",
        "result_not_a = not a  # False\n",
        "result_not_b = not b  # True\n",
        "\n",
        "# Output results\n",
        "print(\"Logical AND:\", result_and)\n",
        "print(\"Logical OR:\", result_or)\n",
        "print(\"Logical NOT (a):\", result_not_a)\n",
        "print(\"Logical NOT (b):\", result_not_b)\n",
        "\n"
      ],
      "metadata": {
        "id": "HrMPIbs6AS-u"
      },
      "execution_count": null,
      "outputs": []
    },
    {
      "cell_type": "markdown",
      "source": [
        "##Logical Operator Order of Precedence\n",
        "\n",
        "1. NOT\n",
        "2. AND\n",
        "3. OR"
      ],
      "metadata": {
        "id": "c5vvxeYxAfVm"
      }
    },
    {
      "cell_type": "code",
      "source": [
        "x = False\n",
        "y = True\n",
        "z = True\n",
        "\n",
        "# Expression: not x or y and z\n",
        "# Evaluation Order: (not x) -> (y and z) -> or\n",
        "result = not x or y and z\n",
        "# Here, not x is evaluated first, then y and z, and finally the or operation.\n",
        "\n",
        "print(\"Result:\", result)  # Output will be True\n"
      ],
      "metadata": {
        "id": "WxPfPKAZAej4"
      },
      "execution_count": null,
      "outputs": []
    },
    {
      "cell_type": "markdown",
      "source": [
        "##Relational Operator Order of Precedence\n",
        "\n",
        "- Relational operators (<, <=, >, >=, ==, !=) all share the same level of precedence.\n",
        "\n",
        "  - In an expression involving multiple relational operators, the evaluation is done from left to right.\n",
        "\n",
        "  - Relational operators have a higher precedence than the logical operators"
      ],
      "metadata": {
        "id": "3zH39xPDGS23"
      }
    },
    {
      "cell_type": "code",
      "source": [
        "# demonstrate relational order of precedence\n",
        "\n",
        "a = 5\n",
        "b = 10\n",
        "c = 15\n",
        "\n",
        "# Expression: a < b < c\n",
        "# Evaluation: a < b and b < c\n",
        "result = a < b < c\n",
        "# In this expression, Python effectively evaluates it as (a < b) and (b < c).\n",
        "\n",
        "print(\"Result:\", result)  # Output will be True\n"
      ],
      "metadata": {
        "id": "v9nbmuDxG4mH"
      },
      "execution_count": null,
      "outputs": []
    },
    {
      "cell_type": "code",
      "source": [
        "# demonstrate mixed order of precedence\n",
        "\n",
        "a = 5\n",
        "b = 10\n",
        "c = 20\n",
        "\n",
        "# Expression: a < b and b < c or a > c\n",
        "# Precedence Order:\n",
        "# 1. Relational Operators (<, >)\n",
        "# 2. Logical AND (and)\n",
        "# 3. Logical OR (or)\n",
        "\n",
        "result = a < b and b < c or a > c\n",
        "# Breakdown:\n",
        "# 1. a < b is evaluated (True)\n",
        "# 2. b < c is evaluated (True)\n",
        "# 3. a > c is evaluated (False)\n",
        "# 4. 'a < b and b < c' is evaluated (True AND True = True)\n",
        "# 5. The entire expression 'True or False' is evaluated (True OR False = True)\n",
        "\n",
        "print(\"Result:\", result)  # Output will be True\n"
      ],
      "metadata": {
        "id": "OZW1i0gQHfrW"
      },
      "execution_count": null,
      "outputs": []
    },
    {
      "cell_type": "markdown",
      "source": [
        "##More Logical Operator Examples\n",
        "\n",
        "<pre>\n",
        "# The AND operator\n",
        "age >= 65 AND city == \"Chicago\"\n",
        "\n",
        "# The OR operator\n",
        "city == \"Greenville\" OR age >= 65\n",
        "\n",
        "# The NOT operator\n",
        "NOT age >= 65\n",
        "\n",
        "# Two AND operators\n",
        "age >= 65 AND city == \"Greenville\" AND state == \"SC\"\n",
        "\n",
        "# Two OR operators\n",
        "age >= 65 OR age <= 18 OR status == \"retired\"\n",
        "</pre>"
      ],
      "metadata": {
        "id": "f84_XWubH31N"
      }
    },
    {
      "cell_type": "code",
      "source": [],
      "metadata": {
        "id": "UJ4cKoddHw3a"
      },
      "execution_count": null,
      "outputs": []
    }
  ]
}