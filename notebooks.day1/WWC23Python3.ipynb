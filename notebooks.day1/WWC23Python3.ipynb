{
  "nbformat": 4,
  "nbformat_minor": 0,
  "metadata": {
    "colab": {
      "provenance": []
    },
    "kernelspec": {
      "name": "python3",
      "display_name": "Python 3"
    },
    "language_info": {
      "name": "python"
    }
  },
  "cells": [
    {
      "cell_type": "markdown",
      "source": [
        "#<b>Lists</b>"
      ],
      "metadata": {
        "id": "Ye9NUR50fEW4"
      }
    },
    {
      "cell_type": "markdown",
      "source": [
        "A <b>list</b> stores a list of items\n",
        "- lists are built-in data types in a category known as <b>sequences</b>\n",
        "\n",
        "- square brackets [] denote a list\n",
        "- elements are comma-separated\n",
        "- items are stored in the order in which they are added\n",
        "- lists are similar to arrays in other programming languages, but\n",
        "- lists do not require homogeneity (elements of the same type)\n",
        "\n",
        "<pre>\n",
        "# a list of 5 elements\n",
        "temps = [48.0, 35.0, 20.2, 100.0, 42.0]\n",
        "</pre>"
      ],
      "metadata": {
        "id": "1EuDAoPQAr3G"
      }
    }
  ]
}