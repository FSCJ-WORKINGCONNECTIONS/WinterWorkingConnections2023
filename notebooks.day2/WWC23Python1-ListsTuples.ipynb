{
  "nbformat": 4,
  "nbformat_minor": 0,
  "metadata": {
    "colab": {
      "provenance": []
    },
    "kernelspec": {
      "name": "python3",
      "display_name": "Python 3"
    },
    "language_info": {
      "name": "python"
    }
  },
  "cells": [
    {
      "cell_type": "markdown",
      "source": [
        "#Lists and Tuples"
      ],
      "metadata": {
        "id": "Ye9NUR50fEW4"
      }
    },
    {
      "cell_type": "markdown",
      "source": [
        "Lists and tuples are  data structures used to store collections of items\n",
        "- A list is a <b>mutable</b>, or changeable, ordered sequence of elements.\n",
        "- Each element inside a list can be of any data type (i.e., they are <b>heterogeneous</b>, unlike arrays in some other languages)\n",
        "- Lists are defined by having values between square brackets []\n",
        "- Lists are particularly useful because they are dynamic, meaning they can be altered after their creation by adding, removing, or changing elements\n",
        "\n",
        "A is an <b>immutable</b>, ordered sequence of elements, meaning that once a tuple is created, it cannot be modified\n",
        "- Tuples are defined by having values between parentheses () and can also store heterogeneous collections\n",
        "- Tuples are faster than lists due to their immutability and are commonly used for data that should not change, such as days of the week or dates on a calendar\n",
        "\n",
        "Both lists and tuples can be nested, support indexing, and can be iterated over in a loop.\n"
      ],
      "metadata": {
        "id": "1EuDAoPQAr3G"
      }
    },
    {
      "cell_type": "markdown",
      "source": [
        "Elements in lists and tuples are comma-separated\n",
        "- Items are stored in the order in which they are added"
      ],
      "metadata": {
        "id": "wei3f9KdC5K3"
      }
    },
    {
      "cell_type": "code",
      "source": [
        "# a list of 5 elements\n",
        "temp_list = [48.0, 35.0, 20.2, 100.0, 42.0]\n",
        "\n",
        "# a tuple of 5 elements\n",
        "temp_tuple = (48.0, 35.0, 20.2, 100.0, 42.0)\n",
        "\n",
        "print(temp_list)\n",
        "print(temp_tuple)"
      ],
      "metadata": {
        "colab": {
          "base_uri": "https://localhost:8080/"
        },
        "id": "FCNgT9gUAujH",
        "outputId": "40137733-6959-4e41-ad69-2515a7a03be2"
      },
      "execution_count": 1,
      "outputs": [
        {
          "output_type": "stream",
          "name": "stdout",
          "text": [
            "[48.0, 35.0, 20.2, 100.0, 42.0]\n",
            "(48.0, 35.0, 20.2, 100.0, 42.0)\n"
          ]
        }
      ]
    }
  ]
}