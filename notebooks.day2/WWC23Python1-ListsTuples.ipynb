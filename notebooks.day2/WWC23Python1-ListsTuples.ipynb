{
  "nbformat": 4,
  "nbformat_minor": 0,
  "metadata": {
    "colab": {
      "provenance": []
    },
    "kernelspec": {
      "name": "python3",
      "display_name": "Python 3"
    },
    "language_info": {
      "name": "python"
    }
  },
  "cells": [
    {
      "cell_type": "markdown",
      "source": [
        "#Lists and Tuples"
      ],
      "metadata": {
        "id": "Ye9NUR50fEW4"
      }
    },
    {
      "cell_type": "markdown",
      "source": [
        "Lists and tuples are  data structures used to store collections of items\n",
        "- A list is a <b>mutable</b>, or changeable, ordered sequence of elements.\n",
        "- Each element inside a list can be of any data type (i.e., they are <b>heterogeneous</b>, unlike arrays in some other languages)\n",
        "- Lists are defined by having values between square brackets []\n",
        "- Lists are particularly useful because they are dynamic, meaning they can be altered after their creation by adding, removing, or changing elements\n",
        "\n",
        "A tuple is an <b>immutable</b> ordered sequence of elements, meaning that once it is created, it cannot be modified\n",
        "- Tuples are defined by having values between parentheses () and can also store heterogeneous collections\n",
        "- Tuples are faster than lists due to their immutability and are commonly used for data that should not change, such as days of the week or dates on a calendar\n",
        "\n",
        "Both lists and tuples can be nested, support indexing, and can be iterated over in a loop.\n"
      ],
      "metadata": {
        "id": "1EuDAoPQAr3G"
      }
    },
    {
      "cell_type": "markdown",
      "source": [
        "Elements in lists and tuples are comma-separated\n",
        "- Items are stored in the order in which they are added"
      ],
      "metadata": {
        "id": "wei3f9KdC5K3"
      }
    },
    {
      "cell_type": "code",
      "source": [
        "# a list of 5 elements\n",
        "temp_list = [48.0, 35.0, 20.2, 100.0, 42.0]\n",
        "\n",
        "# a tuple of 5 elements\n",
        "temp_tuple = (48.0, 35.0, 20.2, 100.0, 42.0)\n",
        "\n",
        "print(temp_list)\n",
        "print(temp_tuple)"
      ],
      "metadata": {
        "colab": {
          "base_uri": "https://localhost:8080/"
        },
        "id": "FCNgT9gUAujH",
        "outputId": "40137733-6959-4e41-ad69-2515a7a03be2"
      },
      "execution_count": null,
      "outputs": [
        {
          "output_type": "stream",
          "name": "stdout",
          "text": [
            "[48.0, 35.0, 20.2, 100.0, 42.0]\n",
            "(48.0, 35.0, 20.2, 100.0, 42.0)\n"
          ]
        }
      ]
    },
    {
      "cell_type": "code",
      "source": [
        "# a list of 4 string elements\n",
        "inventory = ['hat', 'shirt', 'pants', 'shoes' ]\n",
        "print(inventory)\n",
        "# a list of 3 different elements: string, int, float\n",
        "movie = ['The Holy Grail', 1975, 9.99]\n",
        "print(movie)\n",
        "# an empty list\n",
        "test_scores = []\n",
        "print(test_scores)"
      ],
      "metadata": {
        "colab": {
          "base_uri": "https://localhost:8080/"
        },
        "id": "PLWJXpHHQkil",
        "outputId": "744e9939-eb28-48df-800e-61b92b5867b9"
      },
      "execution_count": 2,
      "outputs": [
        {
          "output_type": "stream",
          "name": "stdout",
          "text": [
            "['hat', 'shirt', 'pants', 'shoes']\n",
            "['The Holy Grail', 1975, 9.99]\n",
            "[]\n"
          ]
        }
      ]
    },
    {
      "cell_type": "markdown",
      "source": [
        "Individual elements of a list can be accessed by inserting a 0-based numeric index in square brackets following the name of the list"
      ],
      "metadata": {
        "id": "eOm52v1gQTed"
      }
    },
    {
      "cell_type": "code",
      "source": [
        "temps = [48.0, 35.0, 20.2, 100.0, 42.0]\n",
        "print(temps[0])\n",
        "print(temps[4])\n",
        "\n",
        "print(movie[0].upper())"
      ],
      "metadata": {
        "colab": {
          "base_uri": "https://localhost:8080/"
        },
        "id": "x1MB67mDRIsI",
        "outputId": "822ac167-419e-4784-d0e0-2ab9bd2ddf99"
      },
      "execution_count": 3,
      "outputs": [
        {
          "output_type": "stream",
          "name": "stdout",
          "text": [
            "48.0\n",
            "42.0\n",
            "THE HOLY GRAIL\n"
          ]
        }
      ]
    },
    {
      "cell_type": "markdown",
      "source": [
        "A list index cannot be larger than the size of the list (number of elements) minus 1"
      ],
      "metadata": {
        "id": "LJmX5x0sRXMb"
      }
    },
    {
      "cell_type": "code",
      "source": [
        "temps = [48.0, 30.5, 20.2, 100.0, 42.0]\n",
        "print(temps[5])"
      ],
      "metadata": {
        "id": "vuNSzqE7RZsC"
      },
      "execution_count": null,
      "outputs": []
    },
    {
      "cell_type": "markdown",
      "source": [
        "In Python an index can also be negative\n",
        "- Use -1 as an index to the last element in a list\n",
        "- Python will still return an error if the list is empty\n"
      ],
      "metadata": {
        "id": "I5aY1WhlRfgq"
      }
    },
    {
      "cell_type": "code",
      "source": [
        "# -1 is always the last element\n",
        "print(temps[-1])\n",
        "\n",
        "# the first element\n",
        "print(temps[-5])\n",
        "\n",
        "# a non-existent element\n",
        "print(temps[-6])\n",
        "\n",
        "# empty list\n",
        "print(test_scores[-1])"
      ],
      "metadata": {
        "id": "9QIoOQyyRmYK"
      },
      "execution_count": null,
      "outputs": []
    },
    {
      "cell_type": "markdown",
      "source": [
        "##Modifying List Elements\n",
        "Modifying elements is similar to accessing them\n",
        "- A 0-based index is used for assignment"
      ],
      "metadata": {
        "id": "K4pEjv6KSH3h"
      }
    },
    {
      "cell_type": "code",
      "source": [
        "print(temps)\n",
        "# set fourth element\n",
        "temps[3] = 98.0\n",
        "print(temps)\n",
        "\n",
        "print(inventory)\n",
        "# set second element\n",
        "inventory[1] = 'socks'\n",
        "print(inventory)"
      ],
      "metadata": {
        "colab": {
          "base_uri": "https://localhost:8080/"
        },
        "id": "Aj5wr4LRSOwj",
        "outputId": "8c19959e-663d-41db-f891-a5aeff48ee8e"
      },
      "execution_count": 9,
      "outputs": [
        {
          "output_type": "stream",
          "name": "stdout",
          "text": [
            "[48.0, 30.5, 20.2, 100.0, 42.0]\n",
            "[48.0, 30.5, 20.2, 98.0, 42.0]\n",
            "['hat', 'shirt', 'pants', 'shoes']\n",
            "['hat', 'socks', 'pants', 'shoes']\n"
          ]
        }
      ]
    },
    {
      "cell_type": "markdown",
      "source": [
        "The asterisk (*) acts as a repetition operator when creating (and initializing) lists"
      ],
      "metadata": {
        "id": "gyct_AQKScGW"
      }
    },
    {
      "cell_type": "code",
      "source": [
        "scores = [0] * 5   # same as scores = [0, 0, 0, 0, 0]\n",
        "print(scores)"
      ],
      "metadata": {
        "colab": {
          "base_uri": "https://localhost:8080/"
        },
        "id": "UxF0GTRqShMG",
        "outputId": "767db6b7-4239-45d4-afa3-d0841e41b788"
      },
      "execution_count": 10,
      "outputs": [
        {
          "output_type": "stream",
          "name": "stdout",
          "text": [
            "[0, 0, 0, 0, 0]\n"
          ]
        }
      ]
    }
  ]
}