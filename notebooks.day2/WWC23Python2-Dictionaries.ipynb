{
  "nbformat": 4,
  "nbformat_minor": 0,
  "metadata": {
    "colab": {
      "provenance": []
    },
    "kernelspec": {
      "name": "python3",
      "display_name": "Python 3"
    },
    "language_info": {
      "name": "python"
    }
  },
  "cells": [
    {
      "cell_type": "markdown",
      "source": [
        "#Dictionaries"
      ],
      "metadata": {
        "id": "Ye9NUR50fEW4"
      }
    },
    {
      "cell_type": "markdown",
      "source": [
        "A dictionary is a <b>mutable, unordered collection</b> of data values used to store data values like a map (also known as an associative array)\n",
        "- Unlike other data types that store a single value as an element, dictionaries store <b>key-value pairs</b>.\n",
        "\n",
        "  <img src=\"https://github.com/FSCJ-WorkingConnections/WinterWorkingConnections2023/blob/main/notebooks.day2/images/KeyValuePairs.png?raw=true\" width=300 height=150/>\n",
        "\n",
        "- Dictionaries are defined by enclosing a comma-separated sequence of key-value pairs within curly braces {}\n",
        "- Keys in a dictionary <b>must be unique</b> and can be of any <b>immutable type</b>, such as strings, numbers, or tuples, while the values can be of <b>any</b> data type and can be repeated.\n",
        "- Dictionaries are optimized for retrieving data (values) when the key is known.\n",
        "- They are particularly useful for efficient data lookup, data manipulation, and for managing data that is more naturally stored as a 'named collection' (like the attributes of an entity or object).\n",
        "- Each key-value pair in a dictionary is separated by a colon : and each key is separated from its value by a comma.\n",
        "- As of Python 3.7, items in a Python dictionary are indeed stored in the order in which they are added.\n"
      ],
      "metadata": {
        "id": "1EuDAoPQAr3G"
      }
    },
    {
      "cell_type": "code",
      "source": [
        "# 'color' is a key and 'green' is the associated value in the following\n",
        "# 'points' is a key and 5 is the associated value\n",
        "alien_1 = { 'color' : 'green', 'points' : 5 }\n",
        "\n",
        "# A value can be looked up using the key\n",
        "print('the alien is', alien_1['color'])\n",
        "print('and is worth', alien_1['points'], 'points')\n"
      ],
      "metadata": {
        "id": "FCNgT9gUAujH"
      },
      "execution_count": null,
      "outputs": []
    },
    {
      "cell_type": "code",
      "source": [
        "# strings as keys and values\n",
        "countries = {\"CA\": \"Canada\", \"US\": \"United States\", \"MX\":\"Mexico\"}\n",
        "print(countries)\n",
        "\n",
        "# numbers as keys, strings as values\n",
        "numbers = {1: \"One\", 2: \"Two\", 3: \"Three\", 4: \"Four\", 5: \"Five\"}\n",
        "print(numbers)\n",
        "\n",
        "# strings as keys, values of mixed types\n",
        "movie = { \"name\": \"The Holy Grail\", \"year\": 1975, \"price\": 9.99}\n",
        "print(movie)\n",
        "\n",
        "# an empty dictionary\n",
        "book_catalog = {}\n",
        "print(book_catalog)"
      ],
      "metadata": {
        "id": "G-ooT0l6U8MM"
      },
      "execution_count": null,
      "outputs": []
    },
    {
      "cell_type": "markdown",
      "source": [
        "##Accessing Dictionary Values Using Keys\n",
        "dictionary_name[key] is used to access a value associated with \"key\"\n",
        "- if a key does not exist, an error occurs\n"
      ],
      "metadata": {
        "id": "h6Up_8bgVR0k"
      }
    },
    {
      "cell_type": "code",
      "source": [
        "countries = {\"CA\": \"Canada\",\n",
        "             \"US\": \"United States\",\n",
        "             \"GB\": \"Great Britain\",\n",
        "             \"MX\": \"Mexico\"}\n",
        "\n",
        "print(countries[\"MX\"])\n",
        "print(countries[\"IE\"])"
      ],
      "metadata": {
        "id": "N3rpMMvYVcRj"
      },
      "execution_count": null,
      "outputs": []
    },
    {
      "cell_type": "markdown",
      "source": [
        "If a key is already present, we can modify the existing value:"
      ],
      "metadata": {
        "id": "OuOzCuwUVn8H"
      }
    },
    {
      "cell_type": "code",
      "source": [
        "countries[\"GB\"] = \"United Kingdom\"\n",
        "print(countries)"
      ],
      "metadata": {
        "id": "2qB6fzd1Vq3v"
      },
      "execution_count": null,
      "outputs": []
    },
    {
      "cell_type": "markdown",
      "source": [
        "If a key is not present, we can add a key/value pair:"
      ],
      "metadata": {
        "id": "QhVUjzxsVvXQ"
      }
    },
    {
      "cell_type": "code",
      "source": [
        "countries[\"FR\"] = \"France\"\n",
        "print(countries)"
      ],
      "metadata": {
        "id": "1TXGAEebVxvH"
      },
      "execution_count": null,
      "outputs": []
    }
  ]
}