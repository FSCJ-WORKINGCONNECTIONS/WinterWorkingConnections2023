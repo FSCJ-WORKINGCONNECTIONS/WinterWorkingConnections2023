{
  "nbformat": 4,
  "nbformat_minor": 0,
  "metadata": {
    "colab": {
      "provenance": []
    },
    "kernelspec": {
      "name": "python3",
      "display_name": "Python 3"
    },
    "language_info": {
      "name": "python"
    }
  },
  "cells": [
    {
      "cell_type": "markdown",
      "source": [
        "#Dictionaries"
      ],
      "metadata": {
        "id": "Ye9NUR50fEW4"
      }
    },
    {
      "cell_type": "markdown",
      "source": [
        "A dictionary is a <b>mutable, unordered collection</b> of data values used to store data values like a map (also known as an associative array)\n",
        "- Unlike other data types that store a single value as an element, dictionaries store <b>key-value pairs</b>.  \n",
        "- Dictionaries are defined by enclosing a comma-separated sequence of key-value pairs within curly braces {}\n",
        "- Keys in a dictionary <b>must be unique</b> and can be of any <b>immutable type</b>, such as strings, numbers, or tuples, while the values can be of <b>any</b> data type and can be repeated.\n",
        "- Dictionaries are optimized for retrieving data (values) when the key is known.\n",
        "- They are particularly useful for efficient data lookup, data manipulation, and for managing data that is more naturally stored as a 'named collection' (like the attributes of an entity or object).\n",
        "- Each key-value pair in a dictionary is separated by a colon : and each key is separated from its value by a comma.\n",
        "- As of Python 3.7, items in a Python dictionary are indeed stored in the order in which they are added.\n"
      ],
      "metadata": {
        "id": "1EuDAoPQAr3G"
      }
    },
    {
      "cell_type": "code",
      "source": [
        "# 'color' is a key and 'green' is the associated value in the following\n",
        "# 'points' is a key and 5 is the associated value\n",
        "alien_1 = { 'color' : 'green', 'points' : 5 }\n",
        "\n",
        "# A value can be looked up using the key\n",
        "print('the alien is', alien_1['color'])\n",
        "print('and is worth', alien_1['points'], 'points')\n"
      ],
      "metadata": {
        "colab": {
          "base_uri": "https://localhost:8080/"
        },
        "id": "FCNgT9gUAujH",
        "outputId": "adcce1b6-904b-4ac0-fe00-178adf3d9e35"
      },
      "execution_count": 3,
      "outputs": [
        {
          "output_type": "stream",
          "name": "stdout",
          "text": [
            "the alien is  green\n",
            "and is worth 5 points\n"
          ]
        }
      ]
    }
  ]
}