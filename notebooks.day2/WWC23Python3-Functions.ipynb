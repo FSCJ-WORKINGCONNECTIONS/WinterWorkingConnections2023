{
  "nbformat": 4,
  "nbformat_minor": 0,
  "metadata": {
    "colab": {
      "provenance": []
    },
    "kernelspec": {
      "name": "python3",
      "display_name": "Python 3"
    },
    "language_info": {
      "name": "python"
    }
  },
  "cells": [
    {
      "cell_type": "markdown",
      "source": [
        "#Functions"
      ],
      "metadata": {
        "id": "Ye9NUR50fEW4"
      }
    },
    {
      "cell_type": "markdown",
      "source": [
        "A <b>function</b> is a unit of code that performs a task.\n",
        "- Functions allow us to divide (“modularize”) our code into manageable pieces\n",
        "- Every function should have one specific job\n",
        "\n",
        "Defining a function:\n",
        "\n",
        "<pre>\n",
        "def function_name(parameters):\n",
        "    \"\"\"docstring\"\"\"\n",
        "    # function body\n",
        "    return result\n",
        "</pre>\n",
        "\n",
        "<b>def</b>: used to declare or define a function.\n",
        "\n",
        "<b>function_name</b>: the name of the function. It should follow Python's naming conventions and be descriptive of what the function does.\n",
        "\n",
        "<b>(parameters)</b>: functions can accept parameters or arguments that can be used within the function. Parameters are optional; a function can be defined without them.\n",
        "\n",
        "<b>\"\"\"docstring\"\"\"</b>: an optional documentation string that describes what the function does; the contents can be accessed by calling the help function.\n",
        "\n",
        "<b>function body</b>: the code block within the function where the function's tasks are performed. This is indented under the function definition.\n",
        "\n",
        "<b>return</b>: used to return a value from the function. The return statement is optional; if omitted, the function returns <b>None</b>."
      ],
      "metadata": {
        "id": "1EuDAoPQAr3G"
      }
    },
    {
      "cell_type": "code",
      "source": [
        "def add_numbers(a, b):\n",
        "    \"\"\"Function to add two numbers.\"\"\"\n",
        "    return a + b\n",
        "\n",
        "# Call the function\n",
        "result = add_numbers(5, 3)\n",
        "print(result)  # Outputs: 8\n",
        "# use help() to show the docstring\n",
        "help(add_numbers)\n"
      ],
      "metadata": {
        "id": "FCNgT9gUAujH"
      },
      "execution_count": null,
      "outputs": []
    }
  ]
}