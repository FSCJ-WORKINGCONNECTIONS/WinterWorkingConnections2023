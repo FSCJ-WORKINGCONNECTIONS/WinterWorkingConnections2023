{
  "nbformat": 4,
  "nbformat_minor": 0,
  "metadata": {
    "colab": {
      "provenance": []
    },
    "kernelspec": {
      "name": "python3",
      "display_name": "Python 3"
    },
    "language_info": {
      "name": "python"
    }
  },
  "cells": [
    {
      "cell_type": "markdown",
      "source": [
        "#Files and Exceptions"
      ],
      "metadata": {
        "id": "Ye9NUR50fEW4"
      }
    },
    {
      "cell_type": "markdown",
      "source": [
        "#Working with Files\n",
        "##Opening a File\n",
        "To do any work with a file, even just printing its contents, you first need to open the file to access it.\n",
        "- The open() function needs one argument: the name of the file you want to open.\n",
        "\n",
        "    <pre>file_object = open(filename)</pre>\n",
        "\n",
        "- Use a constant for the file name to make it easier to modify when necessary\n",
        "- Python looks for the specified file in the current folder\n",
        "- The open() function returns an object representing the file.\n"
      ],
      "metadata": {
        "id": "Pfx-WClJvhj9"
      }
    },
    {
      "cell_type": "markdown",
      "source": [
        "##Closing a File\n",
        "The close() function is a method associated with file objects.\n",
        "- After you finish working with a file, it is a good practice to close it.\n",
        "- This helps to free up resources that were associated with the object and ensures that all the data is properly written to the file without any data being lost.\n",
        "\n",
        "  <pre>file_object.close()</pre>"
      ],
      "metadata": {
        "id": "ptf6rlxt7lmz"
      }
    },
    {
      "cell_type": "markdown",
      "source": [
        "##The **With** Statement\n",
        "The Python <b>with</b> statement is a control-flow structure which deals with errors that may occur when a file is being opened, as well as clean-up activities that need to occur when we are done with a file object.\n",
        "- It automatically takes care of closing the file for you once the nested block of code is executed\n",
        "\n",
        "  <pre>with open(FILENAME)as f:\n",
        "      # code which uses the file\n",
        "  \n",
        "  # at this point the file has been closed automatically\n",
        "  </pre>\n",
        "      \n",
        "\n",
        "- Improperly closed files can cause data loss and corruption and resource leaks\n",
        "- When **with** is used the file does not need to be explicitly closed.\n",
        "- We could use the file object's close() method, but **with** simplifies the operations necessary to deal with errors that could prevent close() from executing\n"
      ],
      "metadata": {
        "id": "jyfOfTDUxcTs"
      }
    },
    {
      "cell_type": "markdown",
      "source": [
        "##File Paths\n",
        "If the file passed to the open function is not in the current folder with the python program, the path where it is located has to be specified\n",
        "- Windows uses the backslash as the folder separator, but Python allows the forward slash to be used to maintain compatibility between platforms\n",
        "\n"
      ],
      "metadata": {
        "id": "N5mQ5wJawCvS"
      }
    },
    {
      "cell_type": "markdown",
      "source": [
        "##Writing to a File\n",
        "\n",
        "To write to a file in Python, include the 'w' <b>mode</b> argument in the call to open() and use the write( ) function\n",
        "  - If the file does not exist it will be created\n",
        "  - If it does exist it will be truncated\n",
        "- Be sure to keep in mind things that can go wrong here: permissions, full disk, etc.\n",
        "\n",
        "  <pre>\n",
        "  with open(FILENAME, 'w') as f:\n",
        "      f.write('I love programming.')\n",
        "  </pre>\n",
        "\n",
        "- write() does not automatically include newlines\n",
        "- To write multiple lines to a file, you can include the newline escape character '\\n'\n",
        "\n",
        "  <pre>\n",
        "  with open(FILENAME, 'w') as f:\n",
        "      f.write('I love programming.\\n')\n",
        "      f.write('I love creating new games.\\n')\n",
        "  </pre>"
      ],
      "metadata": {
        "id": "g1QGpHh49A1r"
      }
    },
    {
      "cell_type": "code",
      "source": [
        "import math\n",
        "\n",
        "FILENAME = '/content/pi_digits.txt'\n",
        "\n",
        "# Write the value of pi to the file\n",
        "with open(FILENAME, 'w') as file:\n",
        "    file.write(str(math.pi))\n",
        "    # remember that close() is implicit here\n",
        "\n",
        "input(\"Pausing to view the file; hit <enter> to continue\")\n",
        "\n",
        "with open(FILENAME) as f:\n",
        "    contents = f.read()\n",
        "    # close() is implicit here as well\n",
        "\n",
        "print(contents)"
      ],
      "metadata": {
        "colab": {
          "base_uri": "https://localhost:8080/"
        },
        "id": "1-F2hNjjwh5r",
        "outputId": "aa324ce7-2c5b-4620-f040-2c38920704ef"
      },
      "execution_count": null,
      "outputs": [
        {
          "output_type": "stream",
          "name": "stdout",
          "text": [
            "3.141592653589793\n"
          ]
        }
      ]
    },
    {
      "cell_type": "markdown",
      "source": [
        "##pathlib\n",
        "- Python 3.4 introduced a new standard library for dealing with files and paths called pathlib\n",
        " - Pass a path or filename into a new Path() object using forward slashes\n",
        " - The Path() object will convert forward slashes into the correct kind of slash for the current operating system\n",
        "\n"
      ],
      "metadata": {
        "id": "H6sV-BE2HSc4"
      }
    },
    {
      "cell_type": "code",
      "source": [
        "from pathlib import Path\n",
        "\n",
        "FILEPATH = Path('/content')\n",
        "FILENAME = FILEPATH / 'pi_digits.txt'\n",
        "\n",
        "with open(FILENAME) as f:\n",
        "  contents = f.read()\n",
        "\n",
        "print(contents)\n"
      ],
      "metadata": {
        "colab": {
          "base_uri": "https://localhost:8080/",
          "height": 246
        },
        "id": "lUcACu1JIaFt",
        "outputId": "a83c87b1-4b5a-491d-dba3-54ff546f5648"
      },
      "execution_count": 10,
      "outputs": [
        {
          "output_type": "error",
          "ename": "FileNotFoundError",
          "evalue": "ignored",
          "traceback": [
            "\u001b[0;31m---------------------------------------------------------------------------\u001b[0m",
            "\u001b[0;31mFileNotFoundError\u001b[0m                         Traceback (most recent call last)",
            "\u001b[0;32m<ipython-input-10-a9aec411deea>\u001b[0m in \u001b[0;36m<cell line: 6>\u001b[0;34m()\u001b[0m\n\u001b[1;32m      4\u001b[0m \u001b[0mFILENAME\u001b[0m \u001b[0;34m=\u001b[0m \u001b[0mFILEPATH\u001b[0m \u001b[0;34m/\u001b[0m \u001b[0;34m'pi_digits.txt'\u001b[0m\u001b[0;34m\u001b[0m\u001b[0;34m\u001b[0m\u001b[0m\n\u001b[1;32m      5\u001b[0m \u001b[0;34m\u001b[0m\u001b[0m\n\u001b[0;32m----> 6\u001b[0;31m \u001b[0;32mwith\u001b[0m \u001b[0mopen\u001b[0m\u001b[0;34m(\u001b[0m\u001b[0mFILENAME\u001b[0m\u001b[0;34m)\u001b[0m \u001b[0;32mas\u001b[0m \u001b[0mf\u001b[0m\u001b[0;34m:\u001b[0m\u001b[0;34m\u001b[0m\u001b[0;34m\u001b[0m\u001b[0m\n\u001b[0m\u001b[1;32m      7\u001b[0m   \u001b[0mcontents\u001b[0m \u001b[0;34m=\u001b[0m \u001b[0mf\u001b[0m\u001b[0;34m.\u001b[0m\u001b[0mread\u001b[0m\u001b[0;34m(\u001b[0m\u001b[0;34m)\u001b[0m\u001b[0;34m\u001b[0m\u001b[0;34m\u001b[0m\u001b[0m\n\u001b[1;32m      8\u001b[0m \u001b[0;34m\u001b[0m\u001b[0m\n",
            "\u001b[0;31mFileNotFoundError\u001b[0m: [Errno 2] No such file or directory: '/content/pi_digits.txt'"
          ]
        }
      ]
    },
    {
      "cell_type": "markdown",
      "source": [
        "##Making a List of Lines from a File\n",
        "- The scope of data read using with is only available within the with block\n",
        "- To access a file's contents outside of the block, save it to a list using the readlines method of the file object\n",
        "\n",
        "```\n",
        "with open(FILENAME) as f:\n",
        "    lines = f.readlines()\n",
        "\n",
        "for line in lines:\n",
        "    print(line.rstrip())\n",
        "```\n"
      ],
      "metadata": {
        "id": "9NZt_OpfJXhE"
      }
    },
    {
      "cell_type": "markdown",
      "source": [
        "##Reading Line by Line with readline()\n"
      ],
      "metadata": {
        "id": "eChaSPwjKDdE"
      }
    },
    {
      "cell_type": "code",
      "source": [
        "FILENAME = FILEPATH / \"test.txt\"\n",
        "with open(FILENAME, \"w\") as outfile:\n",
        "    outfile.write(\"aaa\\n\")\n",
        "    outfile.write(\"bbb\\n\")\n",
        "    outfile.write(\"ccc\\n\")\n",
        "\n",
        "input(\"Pausing to view the file; hit <enter> to continue\")\n",
        "\n",
        "with open(FILENAME) as infile:\n",
        "    line = infile.readline() # priming read\n",
        "    while line:              # while line is not EOF\n",
        "        print(line, end=\"\")  # end=\"\" to prevent extra newline\n",
        "        line = infile.readline()\n"
      ],
      "metadata": {
        "colab": {
          "base_uri": "https://localhost:8080/"
        },
        "id": "3bL0W9PIKH1Z",
        "outputId": "2eb63685-0bbe-4248-ebc8-34c07a43eab4"
      },
      "execution_count": null,
      "outputs": [
        {
          "output_type": "stream",
          "name": "stdout",
          "text": [
            "Pausing to view the file; hit <enter> to continue\n",
            "aaa\n",
            "bbb\n",
            "ccc\n"
          ]
        }
      ]
    },
    {
      "cell_type": "markdown",
      "source": [
        "##Reading Line by Line with For\n",
        "- A for loop can be used to read a file line-by-line instead of using readline()\n",
        " - the read operation is implicit\n",
        "- Instead of using end=\"\" in the print to avoid printing extra newlines, we can use the rstrip( ) method in the line object to remove the newlines as they are read in from the file\n",
        "\n",
        "\n",
        "\n"
      ],
      "metadata": {
        "id": "sKy-YHNTL4Py"
      }
    },
    {
      "cell_type": "code",
      "source": [
        "with open(FILENAME) as f:\n",
        "    for line in f:             # no readline necessary!\n",
        "        print(line.rstrip())\n"
      ],
      "metadata": {
        "colab": {
          "base_uri": "https://localhost:8080/"
        },
        "id": "vnA2bMFcMMXg",
        "outputId": "55485702-b260-4d9a-e6fb-ad9a7e7eed8f"
      },
      "execution_count": null,
      "outputs": [
        {
          "output_type": "stream",
          "name": "stdout",
          "text": [
            "aaa\n",
            "bbb\n",
            "ccc\n"
          ]
        }
      ]
    },
    {
      "cell_type": "markdown",
      "source": [
        "##Working with Large Files\n",
        "- **read** and **readlines** read the entire contents of a file at one time\n",
        " - This has memory implications\n",
        "- Use **readline** (or a for loop) to read large files one line at a time\n",
        "- Processing large files can be slow, one advanced strategy (not in the scope of this course) is to use Python's multiprocessing library\n",
        "https://docs.python.org/3/library/multiprocessing.html\n",
        "https://www.blopig.com/blog/2016/08/processing-large-files-using-python/\n",
        "\n",
        "<img src=\"https://github.com/FSCJ-WorkingConnections/WinterWorkingConnections2023/blob/main/notebooks.day2/images/ReadLargeFiles.png?raw=true\" alt=\"ReadLargeFiles\" width=\"400\" height=\"200\"/>\n"
      ],
      "metadata": {
        "id": "kz72XKdHMbmJ"
      }
    },
    {
      "cell_type": "markdown",
      "source": [
        "###Appending to a File\n",
        "- Opening a file in write ('w') mode truncates the file if it exists\n",
        "- To append to a file without truncating, open it in append ('a') mode\n",
        "- Python will append any content to the end of the file\n",
        "- If the file doesn't exist, it will be created\n"
      ],
      "metadata": {
        "id": "C4slcCuLN6G0"
      }
    },
    {
      "cell_type": "code",
      "source": [
        "#!/usr/bin/env python3\n",
        "# simplefileops.py\n",
        "\n",
        "FILENAME= FILEPATH / 'simplefileops.txt'\n",
        "\n",
        "with open(FILENAME, 'w') as f:\n",
        "    f.write('I love programming.\\n')\n",
        "    f.write('I love creating new games.\\n')\n",
        "\n",
        "input(\"Pausing to view the file; hit <enter> to continue\")\n",
        "\n",
        "with open(FILENAME, 'a') as f:\n",
        "    f.write('I also find meaning in large datasets.\\n')\n",
        "\n",
        "input(\"Pausing again to view the file; hit <enter> to continue\")\n",
        "\n",
        "with open(FILENAME) as f:            # 'r' is implied\n",
        "    for line in f:\n",
        "        print(line.replace(\"\\n\",\"\")) # replace also removes newlines"
      ],
      "metadata": {
        "colab": {
          "base_uri": "https://localhost:8080/"
        },
        "id": "LXApQCPtOTmr",
        "outputId": "4e00f9fc-17f4-4eb8-b944-10c31092a5d9"
      },
      "execution_count": 10,
      "outputs": [
        {
          "output_type": "stream",
          "name": "stdout",
          "text": [
            "Pausing to view the file; hit <enter> to continue\n",
            "Pausing to view the file; hit <enter> to continue\n",
            "I love programming.\n",
            "I love creating new games.\n",
            "I also find meaning in large datasets.\n"
          ]
        }
      ]
    },
    {
      "cell_type": "markdown",
      "source": [
        "##Working with Binary Files <img src=\"https://github.com/FSCJ-WorkingConnections/WinterWorkingConnections2023/blob/main/notebooks.day2/images/Pickles.png?raw=true\" alt=\"Pickles\" width=\"25\" height=\"75\"/>\n",
        "\n",
        "- Python provides a pickle module for working with binary files\n",
        "- Pickling is the process of serialization: converting an object into a stream of bytes.\n",
        "- Unpickling is the reverse: convert a stream of bytes into an object\n",
        "```\n",
        "dump(object, bfile)   # writes an object to a binary file\n",
        "load(bfile)           # reads an object from a binary file\n",
        "```"
      ],
      "metadata": {
        "id": "IEjeWYjhQ0tg"
      }
    },
    {
      "cell_type": "markdown",
      "source": [
        "##Write and Read a Binary File"
      ],
      "metadata": {
        "id": "stJGoD2vRfd1"
      }
    },
    {
      "cell_type": "code",
      "source": [
        "#!/usr/bin/env python3\n",
        "\n",
        "# picklecats.py\n",
        "# write and read data to a binary file\n",
        "\n",
        "import pickle   # module for working with binary files\n",
        "FILENAME = FILEPATH / \"kittens.bin\"\n",
        "\n",
        "# 3x2 list of kittens and ages (in years)\n",
        "kittens = [[\"Snowball\", 5],\n",
        "           [\"Mr. Snuffles\", 3],\n",
        "           [\"Fluffy\", 7]]\n",
        "\n",
        "# write the list to a file\n",
        "with open(FILENAME, \"wb\") as file:  # write binary\n",
        "    pickle.dump(kittens, file)\n",
        "\n",
        "input(\"Pausing to view the file; hit <enter> to continue\")\n",
        "\n",
        "# read the file into a list and print\n",
        "with open(FILENAME , \"rb\") as file: # read binary\n",
        "    kitten_list = pickle.load(file)\n",
        "    print(kitten_list)"
      ],
      "metadata": {
        "colab": {
          "base_uri": "https://localhost:8080/"
        },
        "id": "mJGROVHURmPx",
        "outputId": "0f05f9fa-8681-4629-c340-d55ab4c3792f"
      },
      "execution_count": 11,
      "outputs": [
        {
          "output_type": "stream",
          "name": "stdout",
          "text": [
            "Pausing to view the file; hit <enter> to continue\n",
            "[['Snowball', 5], ['Mr. Snuffles', 3], ['Fluffy', 7]]\n"
          ]
        }
      ]
    },
    {
      "cell_type": "markdown",
      "source": [
        "##CSV (Comma-Separated Value) files\n",
        "- CSV (comma-separated value) files are commonly used to store rows of text data with field separators (typically commas)\n",
        "- Python provides a CSV module to work with these files\n"
      ],
      "metadata": {
        "id": "z6-ngR5nSSXX"
      }
    },
    {
      "cell_type": "code",
      "source": [
        "#!/usr/bin/env python3\n",
        "# write_csv.py\n",
        "# write a CSV file\n",
        "\n",
        "import csv\n",
        "CSV_FILE = FILEPATH / \"averages.csv\"\n",
        "\n",
        "def main():\n",
        "    avg_list = [['Smith', 'John', '89'],\n",
        "                ['Jones','Sally', 98],\n",
        "                ['Green','Rashad', 93]]\n",
        "\n",
        "    with open(CSV_FILE, \"w\", newline=\"\") as file:\n",
        "        writer = csv.writer(file)   # create a CSV writer\n",
        "        for row in avg_list:        # for each row in list\n",
        "            writer.writerow(row)    # write comma-delimited values\n",
        "\n",
        "main()\n"
      ],
      "metadata": {
        "id": "-XXroBCoSfIo"
      },
      "execution_count": 12,
      "outputs": []
    },
    {
      "cell_type": "markdown",
      "source": [
        "##Reading CSV files"
      ],
      "metadata": {
        "id": "IgAK1vlpS7O3"
      }
    },
    {
      "cell_type": "code",
      "source": [
        "#!/usr/bin/env python3\n",
        "# read_csv.py\n",
        "# read a CSV file\n",
        "\n",
        "import csv\n",
        "CSV_FILE = FILEPATH / \"averages.csv\"\n",
        "\n",
        "def main():\n",
        "    avg_list = []                   #empty list to hold the file contents\n",
        "\n",
        "    with open(CSV_FILE) as file:\n",
        "        reader = csv.reader(file)   # create a CSV reader\n",
        "        for row in reader:          # read each row\n",
        "            avg_list.append(row)    # append to list\n",
        "\n",
        "    for row in avg_list:            # display list\n",
        "        print(row)\n",
        "\n",
        "main()\n"
      ],
      "metadata": {
        "colab": {
          "base_uri": "https://localhost:8080/"
        },
        "id": "gy0z8iKES-kZ",
        "outputId": "6c76fb13-08c6-430d-cac3-18106e264308"
      },
      "execution_count": 13,
      "outputs": [
        {
          "output_type": "stream",
          "name": "stdout",
          "text": [
            "['Smith', 'John', '89']\n",
            "['Jones', 'Sally', '98']\n",
            "['Green', 'Rashad', '93']\n"
          ]
        }
      ]
    },
    {
      "cell_type": "markdown",
      "source": [
        "# Exceptions"
      ],
      "metadata": {
        "id": "JA70mK4vTRlr"
      }
    },
    {
      "cell_type": "markdown",
      "source": [
        "- Exceptions are objects that are thrown by Python when an error occurs in a program\n",
        "- If exceptions are not handled (\"caught\"), the program crashes when they occur\n",
        "- Handling exceptions prevents your programs from crashing!\n"
      ],
      "metadata": {
        "id": "4KUXn5jATVIB"
      }
    },
    {
      "cell_type": "code",
      "source": [
        "number = int(input(\"Enter an integer: \"))     #try typing 'five'\n",
        "print(\"You entered a valid integer of \"\n",
        "      + str(number) + \".\")\n",
        "print(\"Thanks!\")\n"
      ],
      "metadata": {
        "colab": {
          "base_uri": "https://localhost:8080/",
          "height": 246
        },
        "id": "mVXVQoPSTcig",
        "outputId": "0e6bd123-d390-4466-f15c-3f7f6d606334"
      },
      "execution_count": 14,
      "outputs": [
        {
          "name": "stdout",
          "output_type": "stream",
          "text": [
            "Enter an integer: five\n"
          ]
        },
        {
          "output_type": "error",
          "ename": "ValueError",
          "evalue": "ignored",
          "traceback": [
            "\u001b[0;31m---------------------------------------------------------------------------\u001b[0m",
            "\u001b[0;31mValueError\u001b[0m                                Traceback (most recent call last)",
            "\u001b[0;32m<ipython-input-14-ec123001d56a>\u001b[0m in \u001b[0;36m<cell line: 1>\u001b[0;34m()\u001b[0m\n\u001b[0;32m----> 1\u001b[0;31m \u001b[0mnumber\u001b[0m \u001b[0;34m=\u001b[0m \u001b[0mint\u001b[0m\u001b[0;34m(\u001b[0m\u001b[0minput\u001b[0m\u001b[0;34m(\u001b[0m\u001b[0;34m\"Enter an integer: \"\u001b[0m\u001b[0;34m)\u001b[0m\u001b[0;34m)\u001b[0m     \u001b[0;31m#try typing 'five'\u001b[0m\u001b[0;34m\u001b[0m\u001b[0;34m\u001b[0m\u001b[0m\n\u001b[0m\u001b[1;32m      2\u001b[0m print(\"You entered a valid integer of \" \n\u001b[1;32m      3\u001b[0m       + str(number) + \".\")\n\u001b[1;32m      4\u001b[0m \u001b[0mprint\u001b[0m\u001b[0;34m(\u001b[0m\u001b[0;34m\"Thanks!\"\u001b[0m\u001b[0;34m)\u001b[0m\u001b[0;34m\u001b[0m\u001b[0;34m\u001b[0m\u001b[0m\n",
            "\u001b[0;31mValueError\u001b[0m: invalid literal for int() with base 10: 'five'"
          ]
        }
      ]
    },
    {
      "cell_type": "markdown",
      "source": [
        "##Exception Context: Stack Traces"
      ],
      "metadata": {
        "id": "xUuqILmjT3Is"
      }
    },
    {
      "cell_type": "code",
      "source": [
        "#!/usr/bin/env python3\n",
        "# calculator program which demonstrates exceptions\n",
        "\n",
        "def get_price():\n",
        "    price = float(input(\"Enter price: \"))\n",
        "    return price\n",
        "#end get_price\n",
        "\n",
        "def get_quantity():\n",
        "    quantity = int(input(\"Enter quantity: \"))\n",
        "    return quantity\n",
        "#end get_quantity\n",
        "\n",
        "def main():\n",
        "    print(\"The Total Calculator program\\n\")\n",
        "\n",
        "    # get the price and quantity\n",
        "    price = get_price()\n",
        "    quantity = get_quantity()\n",
        "\n",
        "    # calculate the total\n",
        "    total = price * quantity\n",
        "\n",
        "    # display the results\n",
        "    print()\n",
        "    print(\"PRICE:    \", price)\n",
        "    print(\"QUANTITY: \", quantity)\n",
        "    print(\"TOTAL:    \", total)\n",
        "\n",
        "if __name__ == \"__main__\":\n",
        "    main()"
      ],
      "metadata": {
        "colab": {
          "base_uri": "https://localhost:8080/",
          "height": 408
        },
        "id": "1HgnZyg4T2K1",
        "outputId": "1ef7f821-80e4-4a00-98bc-78fa9443f681"
      },
      "execution_count": 15,
      "outputs": [
        {
          "name": "stdout",
          "output_type": "stream",
          "text": [
            "The Total Calculator program\n",
            "\n",
            "Enter price: nine ninety-nine\n"
          ]
        },
        {
          "output_type": "error",
          "ename": "ValueError",
          "evalue": "ignored",
          "traceback": [
            "\u001b[0;31m---------------------------------------------------------------------------\u001b[0m",
            "\u001b[0;31mValueError\u001b[0m                                Traceback (most recent call last)",
            "\u001b[0;32m<ipython-input-15-6aba3287a601>\u001b[0m in \u001b[0;36m<cell line: 30>\u001b[0;34m()\u001b[0m\n\u001b[1;32m     29\u001b[0m \u001b[0;34m\u001b[0m\u001b[0m\n\u001b[1;32m     30\u001b[0m \u001b[0;32mif\u001b[0m \u001b[0m__name__\u001b[0m \u001b[0;34m==\u001b[0m \u001b[0;34m\"__main__\"\u001b[0m\u001b[0;34m:\u001b[0m\u001b[0;34m\u001b[0m\u001b[0;34m\u001b[0m\u001b[0m\n\u001b[0;32m---> 31\u001b[0;31m     \u001b[0mmain\u001b[0m\u001b[0;34m(\u001b[0m\u001b[0;34m)\u001b[0m\u001b[0;34m\u001b[0m\u001b[0;34m\u001b[0m\u001b[0m\n\u001b[0m",
            "\u001b[0;32m<ipython-input-15-6aba3287a601>\u001b[0m in \u001b[0;36mmain\u001b[0;34m()\u001b[0m\n\u001b[1;32m     16\u001b[0m \u001b[0;34m\u001b[0m\u001b[0m\n\u001b[1;32m     17\u001b[0m     \u001b[0;31m# get the price and quantity\u001b[0m\u001b[0;34m\u001b[0m\u001b[0;34m\u001b[0m\u001b[0m\n\u001b[0;32m---> 18\u001b[0;31m     \u001b[0mprice\u001b[0m \u001b[0;34m=\u001b[0m \u001b[0mget_price\u001b[0m\u001b[0;34m(\u001b[0m\u001b[0;34m)\u001b[0m\u001b[0;34m\u001b[0m\u001b[0;34m\u001b[0m\u001b[0m\n\u001b[0m\u001b[1;32m     19\u001b[0m     \u001b[0mquantity\u001b[0m \u001b[0;34m=\u001b[0m \u001b[0mget_quantity\u001b[0m\u001b[0;34m(\u001b[0m\u001b[0;34m)\u001b[0m\u001b[0;34m\u001b[0m\u001b[0;34m\u001b[0m\u001b[0m\n\u001b[1;32m     20\u001b[0m \u001b[0;34m\u001b[0m\u001b[0m\n",
            "\u001b[0;32m<ipython-input-15-6aba3287a601>\u001b[0m in \u001b[0;36mget_price\u001b[0;34m()\u001b[0m\n\u001b[1;32m      3\u001b[0m \u001b[0;34m\u001b[0m\u001b[0m\n\u001b[1;32m      4\u001b[0m \u001b[0;32mdef\u001b[0m \u001b[0mget_price\u001b[0m\u001b[0;34m(\u001b[0m\u001b[0;34m)\u001b[0m\u001b[0;34m:\u001b[0m\u001b[0;34m\u001b[0m\u001b[0;34m\u001b[0m\u001b[0m\n\u001b[0;32m----> 5\u001b[0;31m     \u001b[0mprice\u001b[0m \u001b[0;34m=\u001b[0m \u001b[0mfloat\u001b[0m\u001b[0;34m(\u001b[0m\u001b[0minput\u001b[0m\u001b[0;34m(\u001b[0m\u001b[0;34m\"Enter price: \"\u001b[0m\u001b[0;34m)\u001b[0m\u001b[0;34m)\u001b[0m\u001b[0;34m\u001b[0m\u001b[0;34m\u001b[0m\u001b[0m\n\u001b[0m\u001b[1;32m      6\u001b[0m     \u001b[0;32mreturn\u001b[0m \u001b[0mprice\u001b[0m\u001b[0;34m\u001b[0m\u001b[0;34m\u001b[0m\u001b[0m\n\u001b[1;32m      7\u001b[0m \u001b[0;31m#end get_price\u001b[0m\u001b[0;34m\u001b[0m\u001b[0;34m\u001b[0m\u001b[0m\n",
            "\u001b[0;31mValueError\u001b[0m: could not convert string to float: 'nine ninety-nine'"
          ]
        }
      ]
    },
    {
      "cell_type": "markdown",
      "source": [
        "- Unhandled exceptions display a stack trace\n",
        "\n",
        "<img src=\"https://github.com/FSCJ-WorkingConnections/WinterWorkingConnections2023/blob/main/notebooks.day2/images/StackTrace.png?raw=true\" alt=\"StackTrace\" width=\"625\" height=\"275\"/>"
      ],
      "metadata": {
        "id": "b0XUcjJmUKwq"
      }
    },
    {
      "cell_type": "markdown",
      "source": [
        "##The Stack\n",
        "- The stack is a special structure in memory dedicated to storing function information\n",
        "- stack frames are stored on the stack\n",
        " - the first frame is at the bottom of the stackStack frames are added to the stack from the “bottom up”\n",
        "- Each time a method or function is called, a frame is added (pushed) on the stack\n",
        "- Stack frames are removed (popped) from the stack when a module exits in LIFO (last in, first out) order\n",
        "- Stack frames are approx. 1K and contain information about the module:\n",
        " - module name\n",
        " - local variables\n",
        " - instruction counter\n",
        " - return address\n",
        "- The Python **inspect** module provides traceback and frame functions which allow information about stack frames to be accessed\n",
        "https://docs.python.org/3/library/inspect.html\n",
        "\n",
        "<img src=\"https://github.com/FSCJ-WorkingConnections/WinterWorkingConnections2023/blob/main/notebooks.day2/images/TheStack.png?raw=true\" alt=\"TheStack\" width=\"625\" height=\"275\"/>\n",
        "\n"
      ],
      "metadata": {
        "id": "zVGQMt7uHoD_"
      }
    },
    {
      "cell_type": "markdown",
      "source": [
        "##The **try** Statement\n",
        "- The int() and float() type conversion functions can cause ValueError exceptions if invalid data is passed\n",
        "- Adding a try statement with an except clause allows the program to handle the exceptions\n",
        "- If an exception occurs, Python skips all remaining statements in the try clause and passes control to the except clause (the exception handler)\n"
      ],
      "metadata": {
        "id": "p-YTujtVKD5J"
      }
    },
    {
      "cell_type": "code",
      "source": [
        "#!/usr/bin/env python3\n",
        "# demonstrate exception handling\n",
        "\n",
        "try:\n",
        "   number = int(input(\"Enter an integer: \"))\n",
        "   print(\"You entered a valid integer of \" + str(number) + \".\")\n",
        "   print(\"Thanks!\")\n",
        "except ValueError:\n",
        "   print(\"You entered an invalid value!\")\n"
      ],
      "metadata": {
        "colab": {
          "base_uri": "https://localhost:8080/"
        },
        "id": "8M7CX74OKY2I",
        "outputId": "031a3aa6-9426-4a5d-e9e3-5f598f71248c"
      },
      "execution_count": 1,
      "outputs": [
        {
          "output_type": "stream",
          "name": "stdout",
          "text": [
            "Enter an integer: five\n",
            "You entered an invalid value!\n"
          ]
        }
      ]
    },
    {
      "cell_type": "markdown",
      "source": [
        "- This except catches a specific exception:\n",
        "```\n",
        "except ValueError:                    #best practice\n",
        "        print(\"You entered an invalid value!\")\n",
        "```\n",
        "This one catches any exception:\n",
        "```\n",
        "except:                               #not recommended\n",
        "        print(\"You entered an invalid value!\")\n",
        "```"
      ],
      "metadata": {
        "id": "xzzkJK3lKp_6"
      }
    },
    {
      "cell_type": "markdown",
      "source": [
        "##The Calculator Program"
      ],
      "metadata": {
        "id": "tJUnao54K8JE"
      }
    },
    {
      "cell_type": "code",
      "source": [
        "#!/usr/bin/env python3\n",
        "# calcexcept.py\n",
        "# calculator program which handles exceptions\n",
        "\n",
        "def get_price():\n",
        "    while True:\n",
        "        try:\n",
        "            price = float(input(\"Enter price: \"))\n",
        "            return price\n",
        "        except ValueError:\n",
        "            print(\"Invalid decimal number. Please try again.\")\n",
        "\n",
        "def get_quantity():\n",
        "    while True:\n",
        "        try:\n",
        "            quantity = int(input(\"Enter quantity: \"))\n",
        "            return quantity\n",
        "        except ValueError:\n",
        "            print(\"Invalid integer. Please try again.\")\n",
        "def main():\n",
        "    print(\"The Total Calculator program\\n\")\n",
        "\n",
        "    # get the price and quantity\n",
        "    price = get_price()\n",
        "    quantity = get_quantity()\n",
        "\n",
        "    # calculate the total\n",
        "    total = price * quantity\n",
        "\n",
        "    # display the results\n",
        "    print()\n",
        "    print(\"PRICE:    \", price)\n",
        "    print(\"QUANTITY: \", quantity)\n",
        "    print(\"TOTAL:    \", total)\n",
        "\n",
        "if __name__ == \"__main__\":\n",
        "    main()"
      ],
      "metadata": {
        "colab": {
          "base_uri": "https://localhost:8080/"
        },
        "id": "9sav2eqzK5rw",
        "outputId": "61b1db25-49ae-4279-c9ee-f23ba46cd2b6"
      },
      "execution_count": 2,
      "outputs": [
        {
          "output_type": "stream",
          "name": "stdout",
          "text": [
            "The Total Calculator program\n",
            "\n",
            "Enter price: nine\n",
            "Invalid decimal number. Please try again.\n",
            "Enter price: 9.0\n",
            "Enter quantity: five\n",
            "Invalid integer. Please try again.\n",
            "Enter quantity: 5\n",
            "\n",
            "PRICE:     9.0\n",
            "QUANTITY:  5\n",
            "TOTAL:     45.0\n"
          ]
        }
      ]
    },
    {
      "cell_type": "markdown",
      "source": [
        "##List of Exceptions\n",
        "<img src=\"https://github.com/FSCJ-WorkingConnections/WinterWorkingConnections2023/blob/main/notebooks.day2/images/ListOfExceptions.png?raw=true\" alt=\"ListOfExceptions\" width=\"625\" height=\"275\"/>\n",
        "\n",
        "https://docs.python.org/3/library/exceptions.html\n"
      ],
      "metadata": {
        "id": "MOr-eClxLLq9"
      }
    },
    {
      "cell_type": "markdown",
      "source": [
        "##Catching Import Exceptions"
      ],
      "metadata": {
        "id": "BLTRilf5Lli4"
      }
    },
    {
      "cell_type": "code",
      "source": [
        "#!/usr/bin/env python3\n",
        "# demonstrates catching an import exception\n",
        "\n",
        "try:\n",
        "    import blahblah\n",
        "except ImportError:\n",
        "    print(\"could not find module blahblah!\")\n"
      ],
      "metadata": {
        "colab": {
          "base_uri": "https://localhost:8080/"
        },
        "id": "or9rGTjuLq24",
        "outputId": "3ab34f9b-0ac8-4bae-fa02-ddf65149f068"
      },
      "execution_count": 3,
      "outputs": [
        {
          "output_type": "stream",
          "name": "stdout",
          "text": [
            "could not find module blahblah!\n"
          ]
        }
      ]
    },
    {
      "cell_type": "markdown",
      "source": [
        "##Raising Exceptions\n",
        "- Programs can raise (throw) their own exceptions\n",
        " - Example: when a user-defined function has been passed invalid parameters\n",
        "```\n",
        "\n",
        "```"
      ],
      "metadata": {
        "id": "rOK4dT-hLw-n"
      }
    },
    {
      "cell_type": "code",
      "source": [
        "#!/usr/bin/env python3\n",
        "try:\n",
        "    import csv\n",
        "except ImportError:\n",
        "    print(\"Unable to import module!\")\n",
        "\n",
        "from pathlib import Path\n",
        "\n",
        "FILEPATH = Path('/content')\n",
        "\n",
        "def get_movies(filename):\n",
        "\n",
        "    if len(filename) == 0:\n",
        "        raise ValueError(\"The filename argument is required.\")\n",
        "    filename = FILEPATH / filename\n",
        "    movie_list = []\n",
        "    with open(filename) as file:\n",
        "        reader = csv.reader(file)\n",
        "        for row in reader:\n",
        "            movie_list.append(row)\n",
        "\n",
        "    for row in movie_list:\n",
        "        print(row)\n",
        "        if movie_list.index(row) == 10:\n",
        "            break\n",
        "\n",
        "def main():\n",
        "    movie_collection = input(\"Enter the name of your movie collection file: \")\n",
        "    try:\n",
        "        get_movies(movie_collection)\n",
        "    except ValueError as ve:\n",
        "        print(\"ValueError:\", str(ve))\n",
        "\n",
        "main()"
      ],
      "metadata": {
        "colab": {
          "base_uri": "https://localhost:8080/"
        },
        "id": "fsSP--ElNSC6",
        "outputId": "c89d66b6-66b9-4093-d999-3d12a9b9054f"
      },
      "execution_count": 20,
      "outputs": [
        {
          "output_type": "stream",
          "name": "stdout",
          "text": [
            "Enter the name of your movie collection file: PalmerPenguins-Combined.csv\n",
            "['StudyName', 'SampleNumber', 'Species', 'Region', 'Island', 'Stage', 'ID', 'ClutchCompletion', 'EggDate', 'CulmenLength_mm', 'CulmenDepth_mm', 'FlipperLength_mm', 'BodyMass_g', 'Sex', 'Delta15N', 'Delta13C', 'Comments']\n",
            "['PAL0708', '1', 'Adelie', 'Anvers', 'Torgersen', 'Adult, 1 Egg Stage', 'N1A1', 'Yes', '11/11/2007', '39.1', '18.7', '181', '3750', 'MALE', '', 'd', 'Not enough blood for isotopes.']\n",
            "['PAL0708', '2', 'Adelie', 'Anvers', 'Torgersen', 'Adult, 1 Egg Stage', 'N1A2', 'Yes', '11/11/2007', '39.5', '17.4', '186', '3800', 'FEMALE', '8.94956', '-24.69454', '']\n",
            "['PAL0708', '3', 'Adelie', 'Anvers', 'Torgersen', 'Adult, 1 Egg Stage', 'N2A1', 'Yes', '11/16/2007', '40.3', '18', '195', '3250', 'FEMALE', '8.36821', '-25.33302', '']\n",
            "['PAL0708', '4', 'Adelie', 'Anvers', 'Torgersen', 'Adult, 1 Egg Stage', 'N2A2', 'Yes', '11/16/2007', '', '', '', '', '', '', '', 'Adult not sampled.']\n",
            "['PAL0708', '5', 'Adelie', 'Anvers', 'Torgersen', 'Adult, 1 Egg Stage', 'N3A1', 'Yes', '11/16/2007', '36.7', '19.3', '193', '3450', 'FEMALE', '8.76651', '-25.32426', '']\n",
            "['PAL0708', '6', 'Adelie', 'Anvers', 'Torgersen', 'Adult, 1 Egg Stage', 'N3A2', 'Yes', '11/16/2007', '39.3', '20.6', '190', '3650', 'MALE', '8.66496', '-25.29805', '']\n",
            "['PAL0708', '7', 'Adelie', 'Anvers', 'Torgersen', 'Adult, 1 Egg Stage', 'N4A1', 'No', '11/15/2007', '38.9', '17.8', '181', '3625', 'FEMALE', '9.18718', '-25.21799', 'Nest never observed with full clutch.']\n",
            "['PAL0708', '8', 'Adelie', 'Anvers', 'Torgersen', 'Adult, 1 Egg Stage', 'N4A2', 'No', '11/15/2007', '39.2', '19.6', '195', '4675', 'MALE', '9.4606', '-24.89958', 'Nest never observed with full clutch.']\n",
            "['PAL0708', '9', 'Adelie', 'Anvers', 'Torgersen', 'Adult, 1 Egg Stage', 'N5A1', 'Yes', '11/9/2007', '34.1', '18.1', '193', '3475', '', '', '', 'No blood sample obtained.']\n",
            "['PAL0708', '10', 'Adelie', 'Anvers', 'Torgersen', 'Adult, 1 Egg Stage', 'N5A2', 'Yes', '11/9/2007', '42', '20.2', '190', '4250', '', '9.13362', '-25.09368', 'No blood sample obtained for sexing.']\n"
          ]
        }
      ]
    },
    {
      "cell_type": "markdown",
      "source": [
        "##Optional: **try** with **else**\n",
        "The try statement has an optional else clause, which, when present, must follow all except clauses.\n",
        "It is useful for code that must be executed if the try clause does not raise an exception.\n"
      ],
      "metadata": {
        "id": "DNvv1_8KMXqF"
      }
    }
  ]
}