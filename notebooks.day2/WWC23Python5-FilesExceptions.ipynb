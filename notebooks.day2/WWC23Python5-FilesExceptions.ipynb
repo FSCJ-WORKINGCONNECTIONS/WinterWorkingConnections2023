{
  "nbformat": 4,
  "nbformat_minor": 0,
  "metadata": {
    "colab": {
      "provenance": []
    },
    "kernelspec": {
      "name": "python3",
      "display_name": "Python 3"
    },
    "language_info": {
      "name": "python"
    }
  },
  "cells": [
    {
      "cell_type": "markdown",
      "source": [
        "#Exceptions"
      ],
      "metadata": {
        "id": "Ye9NUR50fEW4"
      }
    },
    {
      "cell_type": "markdown",
      "source": [
        "#Working with Files\n",
        "##Opening a File\n",
        "To do any work with a file, even just printing its contents, you first need to open the file to access it.\n",
        "- The open() function needs one argument: the name of the file you want to open.\n",
        "\n",
        "    <pre>file_object = open(filename)</pre>\n",
        "\n",
        "- Use a constant for the file name to make it easier to modify when necessary\n",
        "- Python looks for the specified file in the current folder\n",
        "- The open() function returns an object representing the file.\n"
      ],
      "metadata": {
        "id": "Pfx-WClJvhj9"
      }
    },
    {
      "cell_type": "markdown",
      "source": [
        "##Closing a File\n",
        "The close() function is a method associated with file objects.\n",
        "- After you finish working with a file, it is a good practice to close it.\n",
        "- This helps to free up resources that were associated with the object and ensures that all the data is properly written to the file without any data being lost.\n",
        "\n",
        "  <pre>file_object.close()</pre>"
      ],
      "metadata": {
        "id": "ptf6rlxt7lmz"
      }
    },
    {
      "cell_type": "markdown",
      "source": [
        "##The With Statement\n",
        "The Python <b>with</b> statement is a control-flow structure which deals with errors that may occur when a file is being opened, as well as clean-up activities that need to occur when we are done with a file object.\n",
        "- It automatically takes care of closing the file for you once the nested block of code is executed\n",
        "\n",
        "  <pre>with open(FILENAME)as f:\n",
        "      # code which uses the file\n",
        "  \n",
        "  # at this point the file has been closed automatically\n",
        "  </pre>\n",
        "      \n",
        "\n",
        "- Improperly closed files can cause data loss and corruption and resource leaks\n",
        "- When with is used the file does not need to be explicitly closed.\n",
        "- We could use the file object's close() method, but with simplifies the operations necessary to deal with errors that could prevent close() from executing\n"
      ],
      "metadata": {
        "id": "jyfOfTDUxcTs"
      }
    },
    {
      "cell_type": "markdown",
      "source": [
        "##File Paths\n",
        "If the file passed to the open function is not in the current folder, you need to specify the path where it is located\n",
        "- Windows uses the backslash as the folder separator, but Python allows the forward slash to be used to maintain compatibility between platforms\n",
        "\n"
      ],
      "metadata": {
        "id": "N5mQ5wJawCvS"
      }
    },
    {
      "cell_type": "markdown",
      "source": [
        "##Writing to a File\n",
        "\n",
        "To write to a file in Python, include the 'w' <b>mode</b> argument in the call to open() and use the write( ) function\n",
        "  - If the file does not exist it will be created\n",
        "  - If it does exist it will be truncated\n",
        "- Be sure to keep in mind things that can go wrong here: permissions, full disk, etc.\n",
        "\n",
        "  <pre>\n",
        "  with open(FILENAME, 'w') as f:\n",
        "      f.write('I love programming.')\n",
        "  </pre>\n",
        "\n",
        "- write() does not automatically include newlines\n",
        "- To write multiple lines to a file, you can include the newline escape character '\\n'\n",
        "\n",
        "  <pre>\n",
        "  with open(FILENAME, 'w') as f:\n",
        "      f.write('I love programming.\\n')\n",
        "      f.write('I love creating new games.\\n')\n",
        "  </pre>"
      ],
      "metadata": {
        "id": "g1QGpHh49A1r"
      }
    },
    {
      "cell_type": "code",
      "source": [
        "import math\n",
        "\n",
        "FILENAME = '/content/pi_digits.txt'\n",
        "\n",
        "# Write the value of pi to the file\n",
        "with open(FILENAME, 'w') as file:\n",
        "    file.write(str(math.pi))\n",
        "    # remember that close() is implicit here\n",
        "\n",
        "with open(FILENAME) as f:\n",
        "    contents = f.read()\n",
        "    # close() is implicit here as well\n",
        "\n",
        "print(contents)"
      ],
      "metadata": {
        "colab": {
          "base_uri": "https://localhost:8080/"
        },
        "id": "1-F2hNjjwh5r",
        "outputId": "26e6daeb-8e13-4e51-c0a4-9d769a0c7dab"
      },
      "execution_count": 2,
      "outputs": [
        {
          "output_type": "stream",
          "name": "stdout",
          "text": [
            "3.141592653589793\n"
          ]
        }
      ]
    }
  ]
}